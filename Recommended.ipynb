{
 "cells": [
  {
   "cell_type": "markdown",
   "metadata": {},
   "source": [
    "# Import Library"
   ]
  },
  {
   "cell_type": "code",
   "execution_count": 2,
   "metadata": {},
   "outputs": [],
   "source": [
    "import shutil\n",
    "import os\n",
    "import pandas as pd\n",
    "import numpy as np\n",
    "import re\n",
    "from sklearn.metrics.pairwise import cosine_similarity\n",
    "from sklearn.feature_extraction.text import TfidfVectorizer\n",
    "\n",
    "import seaborn as sns\n",
    "import matplotlib.pyplot as plt\n",
    "\n",
    "from surprise import Reader\n",
    "from surprise import Dataset\n",
    "from surprise import SVD\n",
    "from surprise import accuracy\n",
    "\n",
    "from surprise.model_selection import train_test_split"
   ]
  },
  {
   "cell_type": "markdown",
   "metadata": {},
   "source": [
    "# Data Load"
   ]
  },
  {
   "cell_type": "code",
   "execution_count": null,
   "metadata": {},
   "outputs": [],
   "source": [
    "# Unzip file\n",
    "file_path = 'buku.zip'\n",
    "shutil.unpack_archive(file_path, 'buku')"
   ]
  },
  {
   "cell_type": "code",
   "execution_count": 4,
   "metadata": {},
   "outputs": [
    {
     "name": "stderr",
     "output_type": "stream",
     "text": [
      "C:\\Users\\User\\AppData\\Local\\Temp\\ipykernel_3424\\2175165695.py:1: DtypeWarning: Columns (3) have mixed types. Specify dtype option on import or set low_memory=False.\n",
      "  books_df = pd.read_csv('buku/Books.csv')\n"
     ]
    }
   ],
   "source": [
    "books_df = pd.read_csv('buku/Books.csv')\n",
    "users_df = pd.read_csv('buku/Users.csv')\n",
    "ratings_df = pd.read_csv('buku/Ratings.csv')"
   ]
  },
  {
   "cell_type": "markdown",
   "metadata": {},
   "source": [
    "# Data Understanding"
   ]
  },
  {
   "cell_type": "markdown",
   "metadata": {},
   "source": [
    "Books_df dataframe"
   ]
  },
  {
   "cell_type": "code",
   "execution_count": 5,
   "metadata": {},
   "outputs": [
    {
     "name": "stdout",
     "output_type": "stream",
     "text": [
      "<class 'pandas.core.frame.DataFrame'>\n",
      "RangeIndex: 271360 entries, 0 to 271359\n",
      "Data columns (total 8 columns):\n",
      " #   Column               Non-Null Count   Dtype \n",
      "---  ------               --------------   ----- \n",
      " 0   ISBN                 271360 non-null  object\n",
      " 1   Book-Title           271360 non-null  object\n",
      " 2   Book-Author          271358 non-null  object\n",
      " 3   Year-Of-Publication  271360 non-null  object\n",
      " 4   Publisher            271358 non-null  object\n",
      " 5   Image-URL-S          271360 non-null  object\n",
      " 6   Image-URL-M          271360 non-null  object\n",
      " 7   Image-URL-L          271357 non-null  object\n",
      "dtypes: object(8)\n",
      "memory usage: 16.6+ MB\n"
     ]
    }
   ],
   "source": [
    "books_df.info()"
   ]
  },
  {
   "cell_type": "code",
   "execution_count": 6,
   "metadata": {},
   "outputs": [
    {
     "data": {
      "text/plain": [
       "(271360, 8)"
      ]
     },
     "execution_count": 6,
     "metadata": {},
     "output_type": "execute_result"
    }
   ],
   "source": [
    "books_df.shape"
   ]
  },
  {
   "cell_type": "markdown",
   "metadata": {},
   "source": [
    "pada dataframe books_df terdiri dari 271360 baris dan 8 kolom didalamnya dengan kolomsebagai berikut:\n",
    "1. ISBN = Nomor buku berstandar internasional\n",
    "2. Book-Title = Judul buku\n",
    "3. Book-Author = Penulis buku\n",
    "4. Year-Of-Publication = Tahun terbit\n",
    "5. Publisher = Penerbit\n",
    "6. Image-URL-S = url gambar\n",
    "7. Image-URL-M = url gambar\n",
    "8. Image-URL-L = url gambar"
   ]
  },
  {
   "cell_type": "code",
   "execution_count": 7,
   "metadata": {},
   "outputs": [
    {
     "data": {
      "text/html": [
       "<div>\n",
       "<style scoped>\n",
       "    .dataframe tbody tr th:only-of-type {\n",
       "        vertical-align: middle;\n",
       "    }\n",
       "\n",
       "    .dataframe tbody tr th {\n",
       "        vertical-align: top;\n",
       "    }\n",
       "\n",
       "    .dataframe thead th {\n",
       "        text-align: right;\n",
       "    }\n",
       "</style>\n",
       "<table border=\"1\" class=\"dataframe\">\n",
       "  <thead>\n",
       "    <tr style=\"text-align: right;\">\n",
       "      <th></th>\n",
       "      <th>ISBN</th>\n",
       "      <th>Book-Title</th>\n",
       "      <th>Book-Author</th>\n",
       "      <th>Year-Of-Publication</th>\n",
       "      <th>Publisher</th>\n",
       "      <th>Image-URL-S</th>\n",
       "      <th>Image-URL-M</th>\n",
       "      <th>Image-URL-L</th>\n",
       "    </tr>\n",
       "  </thead>\n",
       "  <tbody>\n",
       "    <tr>\n",
       "      <th>0</th>\n",
       "      <td>0195153448</td>\n",
       "      <td>Classical Mythology</td>\n",
       "      <td>Mark P. O. Morford</td>\n",
       "      <td>2002</td>\n",
       "      <td>Oxford University Press</td>\n",
       "      <td>http://images.amazon.com/images/P/0195153448.0...</td>\n",
       "      <td>http://images.amazon.com/images/P/0195153448.0...</td>\n",
       "      <td>http://images.amazon.com/images/P/0195153448.0...</td>\n",
       "    </tr>\n",
       "    <tr>\n",
       "      <th>1</th>\n",
       "      <td>0002005018</td>\n",
       "      <td>Clara Callan</td>\n",
       "      <td>Richard Bruce Wright</td>\n",
       "      <td>2001</td>\n",
       "      <td>HarperFlamingo Canada</td>\n",
       "      <td>http://images.amazon.com/images/P/0002005018.0...</td>\n",
       "      <td>http://images.amazon.com/images/P/0002005018.0...</td>\n",
       "      <td>http://images.amazon.com/images/P/0002005018.0...</td>\n",
       "    </tr>\n",
       "    <tr>\n",
       "      <th>2</th>\n",
       "      <td>0060973129</td>\n",
       "      <td>Decision in Normandy</td>\n",
       "      <td>Carlo D'Este</td>\n",
       "      <td>1991</td>\n",
       "      <td>HarperPerennial</td>\n",
       "      <td>http://images.amazon.com/images/P/0060973129.0...</td>\n",
       "      <td>http://images.amazon.com/images/P/0060973129.0...</td>\n",
       "      <td>http://images.amazon.com/images/P/0060973129.0...</td>\n",
       "    </tr>\n",
       "    <tr>\n",
       "      <th>3</th>\n",
       "      <td>0374157065</td>\n",
       "      <td>Flu: The Story of the Great Influenza Pandemic...</td>\n",
       "      <td>Gina Bari Kolata</td>\n",
       "      <td>1999</td>\n",
       "      <td>Farrar Straus Giroux</td>\n",
       "      <td>http://images.amazon.com/images/P/0374157065.0...</td>\n",
       "      <td>http://images.amazon.com/images/P/0374157065.0...</td>\n",
       "      <td>http://images.amazon.com/images/P/0374157065.0...</td>\n",
       "    </tr>\n",
       "    <tr>\n",
       "      <th>4</th>\n",
       "      <td>0393045218</td>\n",
       "      <td>The Mummies of Urumchi</td>\n",
       "      <td>E. J. W. Barber</td>\n",
       "      <td>1999</td>\n",
       "      <td>W. W. Norton &amp;amp; Company</td>\n",
       "      <td>http://images.amazon.com/images/P/0393045218.0...</td>\n",
       "      <td>http://images.amazon.com/images/P/0393045218.0...</td>\n",
       "      <td>http://images.amazon.com/images/P/0393045218.0...</td>\n",
       "    </tr>\n",
       "  </tbody>\n",
       "</table>\n",
       "</div>"
      ],
      "text/plain": [
       "         ISBN                                         Book-Title  \\\n",
       "0  0195153448                                Classical Mythology   \n",
       "1  0002005018                                       Clara Callan   \n",
       "2  0060973129                               Decision in Normandy   \n",
       "3  0374157065  Flu: The Story of the Great Influenza Pandemic...   \n",
       "4  0393045218                             The Mummies of Urumchi   \n",
       "\n",
       "            Book-Author Year-Of-Publication                   Publisher  \\\n",
       "0    Mark P. O. Morford                2002     Oxford University Press   \n",
       "1  Richard Bruce Wright                2001       HarperFlamingo Canada   \n",
       "2          Carlo D'Este                1991             HarperPerennial   \n",
       "3      Gina Bari Kolata                1999        Farrar Straus Giroux   \n",
       "4       E. J. W. Barber                1999  W. W. Norton &amp; Company   \n",
       "\n",
       "                                         Image-URL-S  \\\n",
       "0  http://images.amazon.com/images/P/0195153448.0...   \n",
       "1  http://images.amazon.com/images/P/0002005018.0...   \n",
       "2  http://images.amazon.com/images/P/0060973129.0...   \n",
       "3  http://images.amazon.com/images/P/0374157065.0...   \n",
       "4  http://images.amazon.com/images/P/0393045218.0...   \n",
       "\n",
       "                                         Image-URL-M  \\\n",
       "0  http://images.amazon.com/images/P/0195153448.0...   \n",
       "1  http://images.amazon.com/images/P/0002005018.0...   \n",
       "2  http://images.amazon.com/images/P/0060973129.0...   \n",
       "3  http://images.amazon.com/images/P/0374157065.0...   \n",
       "4  http://images.amazon.com/images/P/0393045218.0...   \n",
       "\n",
       "                                         Image-URL-L  \n",
       "0  http://images.amazon.com/images/P/0195153448.0...  \n",
       "1  http://images.amazon.com/images/P/0002005018.0...  \n",
       "2  http://images.amazon.com/images/P/0060973129.0...  \n",
       "3  http://images.amazon.com/images/P/0374157065.0...  \n",
       "4  http://images.amazon.com/images/P/0393045218.0...  "
      ]
     },
     "execution_count": 7,
     "metadata": {},
     "output_type": "execute_result"
    }
   ],
   "source": [
    "books_df.head()"
   ]
  },
  {
   "cell_type": "code",
   "execution_count": 8,
   "metadata": {},
   "outputs": [
    {
     "data": {
      "text/plain": [
       "Publisher\n",
       "Harlequin                  7535\n",
       "Silhouette                 4220\n",
       "Pocket                     3905\n",
       "Ballantine Books           3783\n",
       "Bantam Books               3646\n",
       "                           ... \n",
       "Hannover House                1\n",
       "Amber Quill Press, LLC.       1\n",
       "Lunchbox Press                1\n",
       "Ugly Town                     1\n",
       "Connaught                     1\n",
       "Name: count, Length: 16807, dtype: int64"
      ]
     },
     "execution_count": 8,
     "metadata": {},
     "output_type": "execute_result"
    }
   ],
   "source": [
    "books_df['Publisher'].value_counts()"
   ]
  },
  {
   "cell_type": "code",
   "execution_count": 9,
   "metadata": {},
   "outputs": [
    {
     "data": {
      "text/plain": [
       "Book-Author\n",
       "Agatha Christie         632\n",
       "William Shakespeare     567\n",
       "Stephen King            524\n",
       "Ann M. Martin           423\n",
       "Carolyn Keene           373\n",
       "                       ... \n",
       "Linda Jackson             1\n",
       "Artiste C. Arthur         1\n",
       "Emily Pearl Kingsley      1\n",
       "Jean Cassels              1\n",
       "Christopher  Biffle       1\n",
       "Name: count, Length: 102022, dtype: int64"
      ]
     },
     "execution_count": 9,
     "metadata": {},
     "output_type": "execute_result"
    }
   ],
   "source": [
    "books_df['Book-Author'].value_counts()"
   ]
  },
  {
   "cell_type": "code",
   "execution_count": 10,
   "metadata": {},
   "outputs": [
    {
     "data": {
      "text/plain": [
       "ISBN                   0\n",
       "Book-Title             0\n",
       "Book-Author            2\n",
       "Year-Of-Publication    0\n",
       "Publisher              2\n",
       "Image-URL-S            0\n",
       "Image-URL-M            0\n",
       "Image-URL-L            3\n",
       "dtype: int64"
      ]
     },
     "execution_count": 10,
     "metadata": {},
     "output_type": "execute_result"
    }
   ],
   "source": [
    "books_df.isna().sum()"
   ]
  },
  {
   "cell_type": "code",
   "execution_count": 11,
   "metadata": {},
   "outputs": [
    {
     "data": {
      "text/plain": [
       "0"
      ]
     },
     "execution_count": 11,
     "metadata": {},
     "output_type": "execute_result"
    }
   ],
   "source": [
    "books_df.duplicated().sum()"
   ]
  },
  {
   "cell_type": "markdown",
   "metadata": {},
   "source": [
    "pada data books_df terdapat data yang hilang pada beberapa kolom seperti Book-Author, Publisher dan Image-URL-L, selain itu juga terdapat ketidaksesuaian tipe data pada kolom year-of-publication.\n",
    "\n",
    "pada data yang hilang tersebut tidak aakn digunakan pada tahapan selanjutnya maka akan diabaikan."
   ]
  },
  {
   "cell_type": "markdown",
   "metadata": {},
   "source": [
    "## users_df dataframe"
   ]
  },
  {
   "cell_type": "code",
   "execution_count": 12,
   "metadata": {},
   "outputs": [
    {
     "name": "stdout",
     "output_type": "stream",
     "text": [
      "<class 'pandas.core.frame.DataFrame'>\n",
      "RangeIndex: 278858 entries, 0 to 278857\n",
      "Data columns (total 3 columns):\n",
      " #   Column    Non-Null Count   Dtype  \n",
      "---  ------    --------------   -----  \n",
      " 0   User-ID   278858 non-null  int64  \n",
      " 1   Location  278858 non-null  object \n",
      " 2   Age       168096 non-null  float64\n",
      "dtypes: float64(1), int64(1), object(1)\n",
      "memory usage: 6.4+ MB\n"
     ]
    }
   ],
   "source": [
    "users_df.info()"
   ]
  },
  {
   "cell_type": "code",
   "execution_count": 13,
   "metadata": {},
   "outputs": [
    {
     "data": {
      "text/plain": [
       "(278858, 3)"
      ]
     },
     "execution_count": 13,
     "metadata": {},
     "output_type": "execute_result"
    }
   ],
   "source": [
    "users_df.shape"
   ]
  },
  {
   "cell_type": "markdown",
   "metadata": {},
   "source": [
    "dataframe users_df sendiri adalah dataframe yang berisi data user yang terdiri dari 278858 baris dan 3 kolom didalamnya dengan kolom sebagai berikut:\n",
    "1. User-ID = ID user\n",
    "2. Location = Lokasi\n",
    "3. Age = Umur"
   ]
  },
  {
   "cell_type": "code",
   "execution_count": 14,
   "metadata": {},
   "outputs": [
    {
     "data": {
      "text/html": [
       "<div>\n",
       "<style scoped>\n",
       "    .dataframe tbody tr th:only-of-type {\n",
       "        vertical-align: middle;\n",
       "    }\n",
       "\n",
       "    .dataframe tbody tr th {\n",
       "        vertical-align: top;\n",
       "    }\n",
       "\n",
       "    .dataframe thead th {\n",
       "        text-align: right;\n",
       "    }\n",
       "</style>\n",
       "<table border=\"1\" class=\"dataframe\">\n",
       "  <thead>\n",
       "    <tr style=\"text-align: right;\">\n",
       "      <th></th>\n",
       "      <th>User-ID</th>\n",
       "      <th>Age</th>\n",
       "    </tr>\n",
       "  </thead>\n",
       "  <tbody>\n",
       "    <tr>\n",
       "      <th>count</th>\n",
       "      <td>278858.00000</td>\n",
       "      <td>168096.000000</td>\n",
       "    </tr>\n",
       "    <tr>\n",
       "      <th>mean</th>\n",
       "      <td>139429.50000</td>\n",
       "      <td>34.751434</td>\n",
       "    </tr>\n",
       "    <tr>\n",
       "      <th>std</th>\n",
       "      <td>80499.51502</td>\n",
       "      <td>14.428097</td>\n",
       "    </tr>\n",
       "    <tr>\n",
       "      <th>min</th>\n",
       "      <td>1.00000</td>\n",
       "      <td>0.000000</td>\n",
       "    </tr>\n",
       "    <tr>\n",
       "      <th>25%</th>\n",
       "      <td>69715.25000</td>\n",
       "      <td>24.000000</td>\n",
       "    </tr>\n",
       "    <tr>\n",
       "      <th>50%</th>\n",
       "      <td>139429.50000</td>\n",
       "      <td>32.000000</td>\n",
       "    </tr>\n",
       "    <tr>\n",
       "      <th>75%</th>\n",
       "      <td>209143.75000</td>\n",
       "      <td>44.000000</td>\n",
       "    </tr>\n",
       "    <tr>\n",
       "      <th>max</th>\n",
       "      <td>278858.00000</td>\n",
       "      <td>244.000000</td>\n",
       "    </tr>\n",
       "  </tbody>\n",
       "</table>\n",
       "</div>"
      ],
      "text/plain": [
       "            User-ID            Age\n",
       "count  278858.00000  168096.000000\n",
       "mean   139429.50000      34.751434\n",
       "std     80499.51502      14.428097\n",
       "min         1.00000       0.000000\n",
       "25%     69715.25000      24.000000\n",
       "50%    139429.50000      32.000000\n",
       "75%    209143.75000      44.000000\n",
       "max    278858.00000     244.000000"
      ]
     },
     "execution_count": 14,
     "metadata": {},
     "output_type": "execute_result"
    }
   ],
   "source": [
    "users_df.describe()"
   ]
  },
  {
   "cell_type": "code",
   "execution_count": 15,
   "metadata": {},
   "outputs": [
    {
     "data": {
      "text/html": [
       "<div>\n",
       "<style scoped>\n",
       "    .dataframe tbody tr th:only-of-type {\n",
       "        vertical-align: middle;\n",
       "    }\n",
       "\n",
       "    .dataframe tbody tr th {\n",
       "        vertical-align: top;\n",
       "    }\n",
       "\n",
       "    .dataframe thead th {\n",
       "        text-align: right;\n",
       "    }\n",
       "</style>\n",
       "<table border=\"1\" class=\"dataframe\">\n",
       "  <thead>\n",
       "    <tr style=\"text-align: right;\">\n",
       "      <th></th>\n",
       "      <th>User-ID</th>\n",
       "      <th>Location</th>\n",
       "      <th>Age</th>\n",
       "    </tr>\n",
       "  </thead>\n",
       "  <tbody>\n",
       "    <tr>\n",
       "      <th>0</th>\n",
       "      <td>1</td>\n",
       "      <td>nyc, new york, usa</td>\n",
       "      <td>NaN</td>\n",
       "    </tr>\n",
       "    <tr>\n",
       "      <th>1</th>\n",
       "      <td>2</td>\n",
       "      <td>stockton, california, usa</td>\n",
       "      <td>18.0</td>\n",
       "    </tr>\n",
       "    <tr>\n",
       "      <th>2</th>\n",
       "      <td>3</td>\n",
       "      <td>moscow, yukon territory, russia</td>\n",
       "      <td>NaN</td>\n",
       "    </tr>\n",
       "    <tr>\n",
       "      <th>3</th>\n",
       "      <td>4</td>\n",
       "      <td>porto, v.n.gaia, portugal</td>\n",
       "      <td>17.0</td>\n",
       "    </tr>\n",
       "    <tr>\n",
       "      <th>4</th>\n",
       "      <td>5</td>\n",
       "      <td>farnborough, hants, united kingdom</td>\n",
       "      <td>NaN</td>\n",
       "    </tr>\n",
       "  </tbody>\n",
       "</table>\n",
       "</div>"
      ],
      "text/plain": [
       "   User-ID                            Location   Age\n",
       "0        1                  nyc, new york, usa   NaN\n",
       "1        2           stockton, california, usa  18.0\n",
       "2        3     moscow, yukon territory, russia   NaN\n",
       "3        4           porto, v.n.gaia, portugal  17.0\n",
       "4        5  farnborough, hants, united kingdom   NaN"
      ]
     },
     "execution_count": 15,
     "metadata": {},
     "output_type": "execute_result"
    }
   ],
   "source": [
    "users_df.head()"
   ]
  },
  {
   "cell_type": "code",
   "execution_count": 16,
   "metadata": {},
   "outputs": [
    {
     "data": {
      "text/plain": [
       "User-ID          0\n",
       "Location         0\n",
       "Age         110762\n",
       "dtype: int64"
      ]
     },
     "execution_count": 16,
     "metadata": {},
     "output_type": "execute_result"
    }
   ],
   "source": [
    "users_df.isna().sum()"
   ]
  },
  {
   "cell_type": "code",
   "execution_count": 17,
   "metadata": {},
   "outputs": [
    {
     "data": {
      "text/plain": [
       "0"
      ]
     },
     "execution_count": 17,
     "metadata": {},
     "output_type": "execute_result"
    }
   ],
   "source": [
    "users_df.duplicated().sum()"
   ]
  },
  {
   "cell_type": "code",
   "execution_count": 18,
   "metadata": {},
   "outputs": [
    {
     "name": "stderr",
     "output_type": "stream",
     "text": [
      "C:\\Users\\User\\AppData\\Local\\Temp\\ipykernel_3424\\2648942898.py:1: FutureWarning: A value is trying to be set on a copy of a DataFrame or Series through chained assignment using an inplace method.\n",
      "The behavior will change in pandas 3.0. This inplace method will never work because the intermediate object on which we are setting values always behaves as a copy.\n",
      "\n",
      "For example, when doing 'df[col].method(value, inplace=True)', try using 'df.method({col: value}, inplace=True)' or df[col] = df[col].method(value) instead, to perform the operation inplace on the original object.\n",
      "\n",
      "\n",
      "  users_df['Age'].fillna(users_df['Age'].mean(), inplace=True)\n"
     ]
    }
   ],
   "source": [
    "users_df['Age'].fillna(users_df['Age'].mean(), inplace=True)"
   ]
  },
  {
   "cell_type": "code",
   "execution_count": 19,
   "metadata": {},
   "outputs": [],
   "source": [
    "bins = [0, 10, 20, 30, 40, 50, 60, float('inf')]\n",
    "labels = ['0-10', '10-20', '20-30', '30-40', '40-50', '50-60', '>60']\n",
    "users_df['Age-Range'] = pd.cut(users_df['Age'], bins=bins, labels=labels, right=False)"
   ]
  },
  {
   "cell_type": "code",
   "execution_count": 20,
   "metadata": {},
   "outputs": [],
   "source": [
    "age_counts = users_df['Age-Range'].value_counts().sort_index()"
   ]
  },
  {
   "cell_type": "code",
   "execution_count": 21,
   "metadata": {},
   "outputs": [
    {
     "name": "stderr",
     "output_type": "stream",
     "text": [
      "C:\\Users\\User\\AppData\\Local\\Temp\\ipykernel_3424\\1372690376.py:1: FutureWarning: \n",
      "\n",
      "Passing `palette` without assigning `hue` is deprecated and will be removed in v0.14.0. Assign the `x` variable to `hue` and set `legend=False` for the same effect.\n",
      "\n",
      "  sns_barplot = sns.barplot(x=age_counts.index, y=age_counts.values, palette='rocket')\n"
     ]
    },
    {
     "data": {
      "image/png": "[encoded data removed]",
      "text/plain": [
       "<Figure size 640x480 with 1 Axes>"
      ]
     },
     "metadata": {},
     "output_type": "display_data"
    }
   ],
   "source": [
    "sns_barplot = sns.barplot(x=age_counts.index, y=age_counts.values, palette='rocket')\n",
    "plt.title('Distribution of Age Ranges')\n",
    "plt.xlabel('Age Range')\n",
    "plt.ylabel('Count')\n",
    "plt.show()"
   ]
  },
  {
   "cell_type": "code",
   "execution_count": 22,
   "metadata": {},
   "outputs": [],
   "source": [
    "users_df['Nationality'] = users_df['Location'].str.split(',').str[-1].str.strip()"
   ]
  },
  {
   "cell_type": "code",
   "execution_count": 23,
   "metadata": {},
   "outputs": [],
   "source": [
    "users_df['Province'] = users_df['Location'].str.split(',').str[1].str.strip()"
   ]
  },
  {
   "cell_type": "code",
   "execution_count": 24,
   "metadata": {},
   "outputs": [],
   "source": [
    "users_df['City'] = users_df['Location'].str.split(',').str[0].str.strip()"
   ]
  },
  {
   "cell_type": "markdown",
   "metadata": {},
   "source": [
    "pada data users_df terdapat data yang hilang pada beberapa kolom Age, data yang hilang pun tidak sedikit yang mencapai hampir setengah dari keseluruhan data yang ada, akan tetapi berhubung tidak akan digunakan pada tahapan selanjutnya maka akan diabaikan."
   ]
  },
  {
   "cell_type": "code",
   "execution_count": 25,
   "metadata": {},
   "outputs": [
    {
     "data": {
      "image/png": "[encoded data removed]",
      "text/plain": [
       "<Figure size 800x800 with 1 Axes>"
      ]
     },
     "metadata": {},
     "output_type": "display_data"
    }
   ],
   "source": [
    "nationality_counts = users_df['Nationality'].value_counts()\n",
    "\n",
    "top_n = 5\n",
    "top_nationalities = nationality_counts[:top_n]\n",
    "other_nationalities = nationality_counts[top_n:].sum()\n",
    "\n",
    "if other_nationalities > 0:\n",
    "    top_nationalities.loc['Other'] = other_nationalities\n",
    "\n",
    "plt.figure(figsize=(8, 8))\n",
    "plt.pie(top_nationalities.values, labels=top_nationalities.index, autopct='%1.1f%%', startangle=90, colors=plt.cm.tab20c(np.linspace(0, 1, len(top_nationalities))))\n",
    "\n",
    "plt.title('Distribution of Nationalities')\n",
    "plt.show()"
   ]
  },
  {
   "cell_type": "markdown",
   "metadata": {},
   "source": [
    "## ratings_df dataframe"
   ]
  },
  {
   "cell_type": "code",
   "execution_count": 26,
   "metadata": {},
   "outputs": [
    {
     "name": "stdout",
     "output_type": "stream",
     "text": [
      "<class 'pandas.core.frame.DataFrame'>\n",
      "RangeIndex: 1149780 entries, 0 to 1149779\n",
      "Data columns (total 3 columns):\n",
      " #   Column       Non-Null Count    Dtype \n",
      "---  ------       --------------    ----- \n",
      " 0   User-ID      1149780 non-null  int64 \n",
      " 1   ISBN         1149780 non-null  object\n",
      " 2   Book-Rating  1149780 non-null  int64 \n",
      "dtypes: int64(2), object(1)\n",
      "memory usage: 26.3+ MB\n"
     ]
    }
   ],
   "source": [
    "ratings_df.info()"
   ]
  },
  {
   "cell_type": "code",
   "execution_count": 27,
   "metadata": {},
   "outputs": [
    {
     "data": {
      "text/plain": [
       "(1149780, 3)"
      ]
     },
     "execution_count": 27,
     "metadata": {},
     "output_type": "execute_result"
    }
   ],
   "source": [
    "ratings_df.shape"
   ]
  },
  {
   "cell_type": "markdown",
   "metadata": {},
   "source": [
    "dataframe ratings_df sendiri adalah dataframe yang berisi data rating dari setiap film dan useryang terdiri dari 1149780 baris dan 3 kolom didalamnya dengan kolom sebagai berikut:\n",
    "1. User-ID = ID user\n",
    "2. ISBN = Nomor buku berstandar internasional\n",
    "3. Book-Rating = Rating"
   ]
  },
  {
   "cell_type": "code",
   "execution_count": 28,
   "metadata": {},
   "outputs": [
    {
     "data": {
      "text/html": [
       "<div>\n",
       "<style scoped>\n",
       "    .dataframe tbody tr th:only-of-type {\n",
       "        vertical-align: middle;\n",
       "    }\n",
       "\n",
       "    .dataframe tbody tr th {\n",
       "        vertical-align: top;\n",
       "    }\n",
       "\n",
       "    .dataframe thead th {\n",
       "        text-align: right;\n",
       "    }\n",
       "</style>\n",
       "<table border=\"1\" class=\"dataframe\">\n",
       "  <thead>\n",
       "    <tr style=\"text-align: right;\">\n",
       "      <th></th>\n",
       "      <th>User-ID</th>\n",
       "      <th>ISBN</th>\n",
       "      <th>Book-Rating</th>\n",
       "    </tr>\n",
       "  </thead>\n",
       "  <tbody>\n",
       "    <tr>\n",
       "      <th>0</th>\n",
       "      <td>276725</td>\n",
       "      <td>034545104X</td>\n",
       "      <td>0</td>\n",
       "    </tr>\n",
       "    <tr>\n",
       "      <th>1</th>\n",
       "      <td>276726</td>\n",
       "      <td>0155061224</td>\n",
       "      <td>5</td>\n",
       "    </tr>\n",
       "    <tr>\n",
       "      <th>2</th>\n",
       "      <td>276727</td>\n",
       "      <td>0446520802</td>\n",
       "      <td>0</td>\n",
       "    </tr>\n",
       "    <tr>\n",
       "      <th>3</th>\n",
       "      <td>276729</td>\n",
       "      <td>052165615X</td>\n",
       "      <td>3</td>\n",
       "    </tr>\n",
       "    <tr>\n",
       "      <th>4</th>\n",
       "      <td>276729</td>\n",
       "      <td>0521795028</td>\n",
       "      <td>6</td>\n",
       "    </tr>\n",
       "  </tbody>\n",
       "</table>\n",
       "</div>"
      ],
      "text/plain": [
       "   User-ID        ISBN  Book-Rating\n",
       "0   276725  034545104X            0\n",
       "1   276726  0155061224            5\n",
       "2   276727  0446520802            0\n",
       "3   276729  052165615X            3\n",
       "4   276729  0521795028            6"
      ]
     },
     "execution_count": 28,
     "metadata": {},
     "output_type": "execute_result"
    }
   ],
   "source": [
    "ratings_df.head()"
   ]
  },
  {
   "cell_type": "code",
   "execution_count": 29,
   "metadata": {},
   "outputs": [
    {
     "data": {
      "text/html": [
       "<div>\n",
       "<style scoped>\n",
       "    .dataframe tbody tr th:only-of-type {\n",
       "        vertical-align: middle;\n",
       "    }\n",
       "\n",
       "    .dataframe tbody tr th {\n",
       "        vertical-align: top;\n",
       "    }\n",
       "\n",
       "    .dataframe thead th {\n",
       "        text-align: right;\n",
       "    }\n",
       "</style>\n",
       "<table border=\"1\" class=\"dataframe\">\n",
       "  <thead>\n",
       "    <tr style=\"text-align: right;\">\n",
       "      <th></th>\n",
       "      <th>User-ID</th>\n",
       "      <th>Book-Rating</th>\n",
       "    </tr>\n",
       "  </thead>\n",
       "  <tbody>\n",
       "    <tr>\n",
       "      <th>count</th>\n",
       "      <td>1.149780e+06</td>\n",
       "      <td>1.149780e+06</td>\n",
       "    </tr>\n",
       "    <tr>\n",
       "      <th>mean</th>\n",
       "      <td>1.403864e+05</td>\n",
       "      <td>2.866950e+00</td>\n",
       "    </tr>\n",
       "    <tr>\n",
       "      <th>std</th>\n",
       "      <td>8.056228e+04</td>\n",
       "      <td>3.854184e+00</td>\n",
       "    </tr>\n",
       "    <tr>\n",
       "      <th>min</th>\n",
       "      <td>2.000000e+00</td>\n",
       "      <td>0.000000e+00</td>\n",
       "    </tr>\n",
       "    <tr>\n",
       "      <th>25%</th>\n",
       "      <td>7.034500e+04</td>\n",
       "      <td>0.000000e+00</td>\n",
       "    </tr>\n",
       "    <tr>\n",
       "      <th>50%</th>\n",
       "      <td>1.410100e+05</td>\n",
       "      <td>0.000000e+00</td>\n",
       "    </tr>\n",
       "    <tr>\n",
       "      <th>75%</th>\n",
       "      <td>2.110280e+05</td>\n",
       "      <td>7.000000e+00</td>\n",
       "    </tr>\n",
       "    <tr>\n",
       "      <th>max</th>\n",
       "      <td>2.788540e+05</td>\n",
       "      <td>1.000000e+01</td>\n",
       "    </tr>\n",
       "  </tbody>\n",
       "</table>\n",
       "</div>"
      ],
      "text/plain": [
       "            User-ID   Book-Rating\n",
       "count  1.149780e+06  1.149780e+06\n",
       "mean   1.403864e+05  2.866950e+00\n",
       "std    8.056228e+04  3.854184e+00\n",
       "min    2.000000e+00  0.000000e+00\n",
       "25%    7.034500e+04  0.000000e+00\n",
       "50%    1.410100e+05  0.000000e+00\n",
       "75%    2.110280e+05  7.000000e+00\n",
       "max    2.788540e+05  1.000000e+01"
      ]
     },
     "execution_count": 29,
     "metadata": {},
     "output_type": "execute_result"
    }
   ],
   "source": [
    "ratings_df.describe()"
   ]
  },
  {
   "cell_type": "code",
   "execution_count": 30,
   "metadata": {},
   "outputs": [
    {
     "data": {
      "text/plain": [
       "count    1149780.00\n",
       "mean           2.87\n",
       "std            3.85\n",
       "min            0.00\n",
       "25%            0.00\n",
       "50%            0.00\n",
       "75%            7.00\n",
       "max           10.00\n",
       "Name: Book-Rating, dtype: float64"
      ]
     },
     "execution_count": 30,
     "metadata": {},
     "output_type": "execute_result"
    }
   ],
   "source": [
    "ratings_df['Book-Rating'].describe().round(2)"
   ]
  },
  {
   "cell_type": "code",
   "execution_count": 31,
   "metadata": {},
   "outputs": [
    {
     "name": "stderr",
     "output_type": "stream",
     "text": [
      "C:\\Users\\User\\AppData\\Local\\Temp\\ipykernel_3424\\2160477007.py:1: FutureWarning: \n",
      "\n",
      "Passing `palette` without assigning `hue` is deprecated and will be removed in v0.14.0. Assign the `x` variable to `hue` and set `legend=False` for the same effect.\n",
      "\n",
      "  sns.barplot(x=ratings_df['Book-Rating'].value_counts().index, y=ratings_df['Book-Rating'].value_counts().values, palette='rocket')\n"
     ]
    },
    {
     "data": {
      "image/png": "[encoded data removed]",
      "text/plain": [
       "<Figure size 640x480 with 1 Axes>"
      ]
     },
     "metadata": {},
     "output_type": "display_data"
    }
   ],
   "source": [
    "sns.barplot(x=ratings_df['Book-Rating'].value_counts().index, y=ratings_df['Book-Rating'].value_counts().values, palette='rocket')\n",
    "plt.show()"
   ]
  },
  {
   "cell_type": "code",
   "execution_count": 32,
   "metadata": {},
   "outputs": [
    {
     "data": {
      "text/plain": [
       "User-ID        0\n",
       "ISBN           0\n",
       "Book-Rating    0\n",
       "dtype: int64"
      ]
     },
     "execution_count": 32,
     "metadata": {},
     "output_type": "execute_result"
    }
   ],
   "source": [
    "ratings_df.isna().sum()"
   ]
  },
  {
   "cell_type": "code",
   "execution_count": 33,
   "metadata": {},
   "outputs": [
    {
     "data": {
      "text/plain": [
       "0"
      ]
     },
     "execution_count": 33,
     "metadata": {},
     "output_type": "execute_result"
    }
   ],
   "source": [
    "ratings_df.duplicated().sum()"
   ]
  },
  {
   "cell_type": "markdown",
   "metadata": {},
   "source": [
    "pada data ratings_df tidak ada data hilang, akan tetapi tipe data pada kolom user-id belum menjadi str yang nantinya akan bermasalah saat pemrosessan model, maka akan dilakukan perubahan tipe data pada kolom tersebut pada proses selanjutnya."
   ]
  },
  {
   "cell_type": "markdown",
   "metadata": {},
   "source": [
    "# Data Preparation\n",
    "pada bagain ini akan dilakukan beberapa tahapan yang diperlukan untuk mempersiapkan beberapa buku yang akan direkomendasikan kepada user. Tahapan tersebut diantaranya:\n",
    "1. Mengisi data Age yang hilang pada dataframe users_df\n",
    "2. Menggabungkan data buku dan rating melalui kolom ISBN\n",
    "3. Membuat tabel yang berisi jumlah yang membaca sebuah buku oleh user\n",
    "4. Membuat tabel rata-rata rating pada setiap buku yang ada melalui rata-rata rating yang diberikan oleh user\n",
    "5. Menggabungkan data jumlah rating (count_df) dan rata-rata rating (mean_df) menjadi satu tabel\n",
    "6. Mengambil data buku dengan jumlah pembaca di atas 20 dan rata-rata rating di atas 4.5\n",
    "7. Menerapkan filter pada merge_df dengan data preparation yang dihasilkan dari tahapan ke-4\n",
    "8. Drop kolom yang tidak diperlukan\n",
    "9. Membuat matrix dengan menggunakan pivot table\n",
    "10. Mempersiapkan data untuk model SVD"
   ]
  },
  {
   "cell_type": "code",
   "execution_count": null,
   "metadata": {},
   "outputs": [],
   "source": [
    "# mengisi data yang hilang\n",
    "users_df['Age'].fillna(users_df['Age'].mean(), inplace=True)"
   ]
  },
  {
   "cell_type": "code",
   "execution_count": 34,
   "metadata": {},
   "outputs": [
    {
     "data": {
      "text/html": [
       "<div>\n",
       "<style scoped>\n",
       "    .dataframe tbody tr th:only-of-type {\n",
       "        vertical-align: middle;\n",
       "    }\n",
       "\n",
       "    .dataframe tbody tr th {\n",
       "        vertical-align: top;\n",
       "    }\n",
       "\n",
       "    .dataframe thead th {\n",
       "        text-align: right;\n",
       "    }\n",
       "</style>\n",
       "<table border=\"1\" class=\"dataframe\">\n",
       "  <thead>\n",
       "    <tr style=\"text-align: right;\">\n",
       "      <th></th>\n",
       "      <th>User-ID</th>\n",
       "      <th>ISBN</th>\n",
       "      <th>Book-Rating</th>\n",
       "      <th>Book-Title</th>\n",
       "      <th>Book-Author</th>\n",
       "      <th>Year-Of-Publication</th>\n",
       "      <th>Publisher</th>\n",
       "      <th>Image-URL-S</th>\n",
       "      <th>Image-URL-M</th>\n",
       "      <th>Image-URL-L</th>\n",
       "    </tr>\n",
       "  </thead>\n",
       "  <tbody>\n",
       "    <tr>\n",
       "      <th>0</th>\n",
       "      <td>276725</td>\n",
       "      <td>034545104X</td>\n",
       "      <td>0</td>\n",
       "      <td>Flesh Tones: A Novel</td>\n",
       "      <td>M. J. Rose</td>\n",
       "      <td>2002</td>\n",
       "      <td>Ballantine Books</td>\n",
       "      <td>http://images.amazon.com/images/P/034545104X.0...</td>\n",
       "      <td>http://images.amazon.com/images/P/034545104X.0...</td>\n",
       "      <td>http://images.amazon.com/images/P/034545104X.0...</td>\n",
       "    </tr>\n",
       "    <tr>\n",
       "      <th>1</th>\n",
       "      <td>276726</td>\n",
       "      <td>0155061224</td>\n",
       "      <td>5</td>\n",
       "      <td>Rites of Passage</td>\n",
       "      <td>Judith Rae</td>\n",
       "      <td>2001</td>\n",
       "      <td>Heinle</td>\n",
       "      <td>http://images.amazon.com/images/P/0155061224.0...</td>\n",
       "      <td>http://images.amazon.com/images/P/0155061224.0...</td>\n",
       "      <td>http://images.amazon.com/images/P/0155061224.0...</td>\n",
       "    </tr>\n",
       "    <tr>\n",
       "      <th>2</th>\n",
       "      <td>276727</td>\n",
       "      <td>0446520802</td>\n",
       "      <td>0</td>\n",
       "      <td>The Notebook</td>\n",
       "      <td>Nicholas Sparks</td>\n",
       "      <td>1996</td>\n",
       "      <td>Warner Books</td>\n",
       "      <td>http://images.amazon.com/images/P/0446520802.0...</td>\n",
       "      <td>http://images.amazon.com/images/P/0446520802.0...</td>\n",
       "      <td>http://images.amazon.com/images/P/0446520802.0...</td>\n",
       "    </tr>\n",
       "    <tr>\n",
       "      <th>3</th>\n",
       "      <td>276729</td>\n",
       "      <td>052165615X</td>\n",
       "      <td>3</td>\n",
       "      <td>Help!: Level 1</td>\n",
       "      <td>Philip Prowse</td>\n",
       "      <td>1999</td>\n",
       "      <td>Cambridge University Press</td>\n",
       "      <td>http://images.amazon.com/images/P/052165615X.0...</td>\n",
       "      <td>http://images.amazon.com/images/P/052165615X.0...</td>\n",
       "      <td>http://images.amazon.com/images/P/052165615X.0...</td>\n",
       "    </tr>\n",
       "    <tr>\n",
       "      <th>4</th>\n",
       "      <td>276729</td>\n",
       "      <td>0521795028</td>\n",
       "      <td>6</td>\n",
       "      <td>The Amsterdam Connection : Level 4 (Cambridge ...</td>\n",
       "      <td>Sue Leather</td>\n",
       "      <td>2001</td>\n",
       "      <td>Cambridge University Press</td>\n",
       "      <td>http://images.amazon.com/images/P/0521795028.0...</td>\n",
       "      <td>http://images.amazon.com/images/P/0521795028.0...</td>\n",
       "      <td>http://images.amazon.com/images/P/0521795028.0...</td>\n",
       "    </tr>\n",
       "  </tbody>\n",
       "</table>\n",
       "</div>"
      ],
      "text/plain": [
       "   User-ID        ISBN  Book-Rating  \\\n",
       "0   276725  034545104X            0   \n",
       "1   276726  0155061224            5   \n",
       "2   276727  0446520802            0   \n",
       "3   276729  052165615X            3   \n",
       "4   276729  0521795028            6   \n",
       "\n",
       "                                          Book-Title      Book-Author  \\\n",
       "0                               Flesh Tones: A Novel       M. J. Rose   \n",
       "1                                   Rites of Passage       Judith Rae   \n",
       "2                                       The Notebook  Nicholas Sparks   \n",
       "3                                     Help!: Level 1    Philip Prowse   \n",
       "4  The Amsterdam Connection : Level 4 (Cambridge ...      Sue Leather   \n",
       "\n",
       "  Year-Of-Publication                   Publisher  \\\n",
       "0                2002            Ballantine Books   \n",
       "1                2001                      Heinle   \n",
       "2                1996                Warner Books   \n",
       "3                1999  Cambridge University Press   \n",
       "4                2001  Cambridge University Press   \n",
       "\n",
       "                                         Image-URL-S  \\\n",
       "0  http://images.amazon.com/images/P/034545104X.0...   \n",
       "1  http://images.amazon.com/images/P/0155061224.0...   \n",
       "2  http://images.amazon.com/images/P/0446520802.0...   \n",
       "3  http://images.amazon.com/images/P/052165615X.0...   \n",
       "4  http://images.amazon.com/images/P/0521795028.0...   \n",
       "\n",
       "                                         Image-URL-M  \\\n",
       "0  http://images.amazon.com/images/P/034545104X.0...   \n",
       "1  http://images.amazon.com/images/P/0155061224.0...   \n",
       "2  http://images.amazon.com/images/P/0446520802.0...   \n",
       "3  http://images.amazon.com/images/P/052165615X.0...   \n",
       "4  http://images.amazon.com/images/P/0521795028.0...   \n",
       "\n",
       "                                         Image-URL-L  \n",
       "0  http://images.amazon.com/images/P/034545104X.0...  \n",
       "1  http://images.amazon.com/images/P/0155061224.0...  \n",
       "2  http://images.amazon.com/images/P/0446520802.0...  \n",
       "3  http://images.amazon.com/images/P/052165615X.0...  \n",
       "4  http://images.amazon.com/images/P/0521795028.0...  "
      ]
     },
     "execution_count": 34,
     "metadata": {},
     "output_type": "execute_result"
    }
   ],
   "source": [
    "# menggabungkan data buku dan rating\n",
    "merge_df = pd.merge(ratings_df, books_df, on='ISBN')\n",
    "merge_df.head()"
   ]
  },
  {
   "cell_type": "code",
   "execution_count": 35,
   "metadata": {},
   "outputs": [
    {
     "name": "stdout",
     "output_type": "stream",
     "text": [
      "<class 'pandas.core.frame.DataFrame'>\n",
      "RangeIndex: 1031136 entries, 0 to 1031135\n",
      "Data columns (total 10 columns):\n",
      " #   Column               Non-Null Count    Dtype \n",
      "---  ------               --------------    ----- \n",
      " 0   User-ID              1031136 non-null  int64 \n",
      " 1   ISBN                 1031136 non-null  object\n",
      " 2   Book-Rating          1031136 non-null  int64 \n",
      " 3   Book-Title           1031136 non-null  object\n",
      " 4   Book-Author          1031134 non-null  object\n",
      " 5   Year-Of-Publication  1031136 non-null  object\n",
      " 6   Publisher            1031134 non-null  object\n",
      " 7   Image-URL-S          1031136 non-null  object\n",
      " 8   Image-URL-M          1031136 non-null  object\n",
      " 9   Image-URL-L          1031132 non-null  object\n",
      "dtypes: int64(2), object(8)\n",
      "memory usage: 78.7+ MB\n"
     ]
    }
   ],
   "source": [
    "merge_df.info()"
   ]
  },
  {
   "cell_type": "code",
   "execution_count": 36,
   "metadata": {},
   "outputs": [
    {
     "data": {
      "text/html": [
       "<div>\n",
       "<style scoped>\n",
       "    .dataframe tbody tr th:only-of-type {\n",
       "        vertical-align: middle;\n",
       "    }\n",
       "\n",
       "    .dataframe tbody tr th {\n",
       "        vertical-align: top;\n",
       "    }\n",
       "\n",
       "    .dataframe thead th {\n",
       "        text-align: right;\n",
       "    }\n",
       "</style>\n",
       "<table border=\"1\" class=\"dataframe\">\n",
       "  <thead>\n",
       "    <tr style=\"text-align: right;\">\n",
       "      <th></th>\n",
       "      <th>Book-Title</th>\n",
       "      <th>mean</th>\n",
       "    </tr>\n",
       "  </thead>\n",
       "  <tbody>\n",
       "    <tr>\n",
       "      <th>0</th>\n",
       "      <td>Film Is: The International Free Cinema</td>\n",
       "      <td>10.0</td>\n",
       "    </tr>\n",
       "    <tr>\n",
       "      <th>1</th>\n",
       "      <td>More Secrets of Happy Children: Embrace Your P...</td>\n",
       "      <td>10.0</td>\n",
       "    </tr>\n",
       "    <tr>\n",
       "      <th>2</th>\n",
       "      <td>Jo's Boys : From the Original Publisher</td>\n",
       "      <td>10.0</td>\n",
       "    </tr>\n",
       "    <tr>\n",
       "      <th>3</th>\n",
       "      <td>The Vanished Priestess : An Annie Szabo Mystery</td>\n",
       "      <td>10.0</td>\n",
       "    </tr>\n",
       "    <tr>\n",
       "      <th>4</th>\n",
       "      <td>Game and Hunting</td>\n",
       "      <td>10.0</td>\n",
       "    </tr>\n",
       "  </tbody>\n",
       "</table>\n",
       "</div>"
      ],
      "text/plain": [
       "                                          Book-Title  mean\n",
       "0             Film Is: The International Free Cinema  10.0\n",
       "1  More Secrets of Happy Children: Embrace Your P...  10.0\n",
       "2            Jo's Boys : From the Original Publisher  10.0\n",
       "3    The Vanished Priestess : An Annie Szabo Mystery  10.0\n",
       "4                                   Game and Hunting  10.0"
      ]
     },
     "execution_count": 36,
     "metadata": {},
     "output_type": "execute_result"
    }
   ],
   "source": [
    "# membuat tabel rating pada setiap buku yang ada \n",
    "mean_df = merge_df.groupby('Book-Title')['Book-Rating'].mean().sort_values(ascending=False)\n",
    "mean_df = mean_df.reset_index(name = 'mean')\n",
    "mean_df.head()"
   ]
  },
  {
   "cell_type": "code",
   "execution_count": 37,
   "metadata": {},
   "outputs": [
    {
     "data": {
      "text/html": [
       "<div>\n",
       "<style scoped>\n",
       "    .dataframe tbody tr th:only-of-type {\n",
       "        vertical-align: middle;\n",
       "    }\n",
       "\n",
       "    .dataframe tbody tr th {\n",
       "        vertical-align: top;\n",
       "    }\n",
       "\n",
       "    .dataframe thead th {\n",
       "        text-align: right;\n",
       "    }\n",
       "</style>\n",
       "<table border=\"1\" class=\"dataframe\">\n",
       "  <thead>\n",
       "    <tr style=\"text-align: right;\">\n",
       "      <th></th>\n",
       "      <th>Book-Title</th>\n",
       "      <th>count</th>\n",
       "    </tr>\n",
       "  </thead>\n",
       "  <tbody>\n",
       "    <tr>\n",
       "      <th>0</th>\n",
       "      <td>Wild Animus</td>\n",
       "      <td>2502</td>\n",
       "    </tr>\n",
       "    <tr>\n",
       "      <th>1</th>\n",
       "      <td>The Lovely Bones: A Novel</td>\n",
       "      <td>1295</td>\n",
       "    </tr>\n",
       "    <tr>\n",
       "      <th>2</th>\n",
       "      <td>The Da Vinci Code</td>\n",
       "      <td>898</td>\n",
       "    </tr>\n",
       "    <tr>\n",
       "      <th>3</th>\n",
       "      <td>A Painted House</td>\n",
       "      <td>838</td>\n",
       "    </tr>\n",
       "    <tr>\n",
       "      <th>4</th>\n",
       "      <td>The Nanny Diaries: A Novel</td>\n",
       "      <td>828</td>\n",
       "    </tr>\n",
       "  </tbody>\n",
       "</table>\n",
       "</div>"
      ],
      "text/plain": [
       "                   Book-Title  count\n",
       "0                 Wild Animus   2502\n",
       "1   The Lovely Bones: A Novel   1295\n",
       "2           The Da Vinci Code    898\n",
       "3             A Painted House    838\n",
       "4  The Nanny Diaries: A Novel    828"
      ]
     },
     "execution_count": 37,
     "metadata": {},
     "output_type": "execute_result"
    }
   ],
   "source": [
    "# membuat tabel yang berisi jumlah yang membaca setiap buku\n",
    "count_df = merge_df.groupby('Book-Title')['Book-Rating'].count().sort_values(ascending=False)\n",
    "count_df = count_df.reset_index(name='count')\n",
    "count_df.head()\n"
   ]
  },
  {
   "cell_type": "code",
   "execution_count": 38,
   "metadata": {},
   "outputs": [
    {
     "data": {
      "text/html": [
       "<div>\n",
       "<style scoped>\n",
       "    .dataframe tbody tr th:only-of-type {\n",
       "        vertical-align: middle;\n",
       "    }\n",
       "\n",
       "    .dataframe tbody tr th {\n",
       "        vertical-align: top;\n",
       "    }\n",
       "\n",
       "    .dataframe thead th {\n",
       "        text-align: right;\n",
       "    }\n",
       "</style>\n",
       "<table border=\"1\" class=\"dataframe\">\n",
       "  <thead>\n",
       "    <tr style=\"text-align: right;\">\n",
       "      <th></th>\n",
       "      <th>Book-Title</th>\n",
       "      <th>mean</th>\n",
       "      <th>count</th>\n",
       "    </tr>\n",
       "  </thead>\n",
       "  <tbody>\n",
       "    <tr>\n",
       "      <th>0</th>\n",
       "      <td>Film Is: The International Free Cinema</td>\n",
       "      <td>10.0</td>\n",
       "      <td>1</td>\n",
       "    </tr>\n",
       "    <tr>\n",
       "      <th>1</th>\n",
       "      <td>More Secrets of Happy Children: Embrace Your P...</td>\n",
       "      <td>10.0</td>\n",
       "      <td>1</td>\n",
       "    </tr>\n",
       "    <tr>\n",
       "      <th>2</th>\n",
       "      <td>Jo's Boys : From the Original Publisher</td>\n",
       "      <td>10.0</td>\n",
       "      <td>1</td>\n",
       "    </tr>\n",
       "    <tr>\n",
       "      <th>3</th>\n",
       "      <td>The Vanished Priestess : An Annie Szabo Mystery</td>\n",
       "      <td>10.0</td>\n",
       "      <td>1</td>\n",
       "    </tr>\n",
       "    <tr>\n",
       "      <th>4</th>\n",
       "      <td>Game and Hunting</td>\n",
       "      <td>10.0</td>\n",
       "      <td>1</td>\n",
       "    </tr>\n",
       "  </tbody>\n",
       "</table>\n",
       "</div>"
      ],
      "text/plain": [
       "                                          Book-Title  mean  count\n",
       "0             Film Is: The International Free Cinema  10.0      1\n",
       "1  More Secrets of Happy Children: Embrace Your P...  10.0      1\n",
       "2            Jo's Boys : From the Original Publisher  10.0      1\n",
       "3    The Vanished Priestess : An Annie Szabo Mystery  10.0      1\n",
       "4                                   Game and Hunting  10.0      1"
      ]
     },
     "execution_count": 38,
     "metadata": {},
     "output_type": "execute_result"
    }
   ],
   "source": [
    "#menggabungkan data jumlah rating (count_df) dan rata-rata rating (mean_df) menjadi satu tabel\n",
    "preparation = pd.merge(mean_df, count_df, on='Book-Title')\n",
    "preparation.head()"
   ]
  },
  {
   "cell_type": "code",
   "execution_count": 39,
   "metadata": {},
   "outputs": [
    {
     "data": {
      "text/html": [
       "<div>\n",
       "<style scoped>\n",
       "    .dataframe tbody tr th:only-of-type {\n",
       "        vertical-align: middle;\n",
       "    }\n",
       "\n",
       "    .dataframe tbody tr th {\n",
       "        vertical-align: top;\n",
       "    }\n",
       "\n",
       "    .dataframe thead th {\n",
       "        text-align: right;\n",
       "    }\n",
       "</style>\n",
       "<table border=\"1\" class=\"dataframe\">\n",
       "  <thead>\n",
       "    <tr style=\"text-align: right;\">\n",
       "      <th></th>\n",
       "      <th>Book-Title</th>\n",
       "      <th>mean</th>\n",
       "      <th>count</th>\n",
       "    </tr>\n",
       "  </thead>\n",
       "  <tbody>\n",
       "    <tr>\n",
       "      <th>21509</th>\n",
       "      <td>Chobits (Chobits)</td>\n",
       "      <td>8.035714</td>\n",
       "      <td>28</td>\n",
       "    </tr>\n",
       "    <tr>\n",
       "      <th>21510</th>\n",
       "      <td>Free</td>\n",
       "      <td>8.017857</td>\n",
       "      <td>56</td>\n",
       "    </tr>\n",
       "    <tr>\n",
       "      <th>33536</th>\n",
       "      <td>El Hobbit</td>\n",
       "      <td>7.692308</td>\n",
       "      <td>26</td>\n",
       "    </tr>\n",
       "    <tr>\n",
       "      <th>34922</th>\n",
       "      <td>Where the Sidewalk Ends : Poems and Drawings</td>\n",
       "      <td>7.121212</td>\n",
       "      <td>33</td>\n",
       "    </tr>\n",
       "    <tr>\n",
       "      <th>44310</th>\n",
       "      <td>Harry Potter y el cÃ¡liz de fuego</td>\n",
       "      <td>6.833333</td>\n",
       "      <td>24</td>\n",
       "    </tr>\n",
       "    <tr>\n",
       "      <th>...</th>\n",
       "      <td>...</td>\n",
       "      <td>...</td>\n",
       "      <td>...</td>\n",
       "    </tr>\n",
       "    <tr>\n",
       "      <th>70387</th>\n",
       "      <td>Dragonsong (Harper Hall Trilogy)</td>\n",
       "      <td>4.516129</td>\n",
       "      <td>31</td>\n",
       "    </tr>\n",
       "    <tr>\n",
       "      <th>70388</th>\n",
       "      <td>The Funny Thing Is...</td>\n",
       "      <td>4.515152</td>\n",
       "      <td>33</td>\n",
       "    </tr>\n",
       "    <tr>\n",
       "      <th>70389</th>\n",
       "      <td>Drums of Autumn</td>\n",
       "      <td>4.514851</td>\n",
       "      <td>101</td>\n",
       "    </tr>\n",
       "    <tr>\n",
       "      <th>70390</th>\n",
       "      <td>Dry: A Memoir</td>\n",
       "      <td>4.512821</td>\n",
       "      <td>39</td>\n",
       "    </tr>\n",
       "    <tr>\n",
       "      <th>70391</th>\n",
       "      <td>The Wind-Up Bird Chronicle</td>\n",
       "      <td>4.509434</td>\n",
       "      <td>53</td>\n",
       "    </tr>\n",
       "  </tbody>\n",
       "</table>\n",
       "<p>421 rows × 3 columns</p>\n",
       "</div>"
      ],
      "text/plain": [
       "                                         Book-Title      mean  count\n",
       "21509                             Chobits (Chobits)  8.035714     28\n",
       "21510                                          Free  8.017857     56\n",
       "33536                                     El Hobbit  7.692308     26\n",
       "34922  Where the Sidewalk Ends : Poems and Drawings  7.121212     33\n",
       "44310             Harry Potter y el cÃ¡liz de fuego  6.833333     24\n",
       "...                                             ...       ...    ...\n",
       "70387              Dragonsong (Harper Hall Trilogy)  4.516129     31\n",
       "70388                         The Funny Thing Is...  4.515152     33\n",
       "70389                               Drums of Autumn  4.514851    101\n",
       "70390                                 Dry: A Memoir  4.512821     39\n",
       "70391                    The Wind-Up Bird Chronicle  4.509434     53\n",
       "\n",
       "[421 rows x 3 columns]"
      ]
     },
     "execution_count": 39,
     "metadata": {},
     "output_type": "execute_result"
    }
   ],
   "source": [
    "# mengambil data dengan ketentuan jumlah pembaca di atas 20 dan rata-rata rating di atas 4.5\n",
    "preparation = preparation[preparation['count'] > 20]\n",
    "preparation = preparation[preparation['mean'] > 4.5]\n",
    "preparation"
   ]
  },
  {
   "cell_type": "code",
   "execution_count": 40,
   "metadata": {},
   "outputs": [],
   "source": [
    "# menerapkan filter pada merge_df dengan data preparation dengan melakukkan filter pada kolom Book-Title\n",
    "fix_df = merge_df[merge_df['Book-Title'].isin(preparation['Book-Title'])]"
   ]
  },
  {
   "cell_type": "code",
   "execution_count": 41,
   "metadata": {},
   "outputs": [
    {
     "name": "stdout",
     "output_type": "stream",
     "text": [
      "<class 'pandas.core.frame.DataFrame'>\n",
      "Index: 21993 entries, 60 to 1031107\n",
      "Data columns (total 10 columns):\n",
      " #   Column               Non-Null Count  Dtype \n",
      "---  ------               --------------  ----- \n",
      " 0   User-ID              21993 non-null  int64 \n",
      " 1   ISBN                 21993 non-null  object\n",
      " 2   Book-Rating          21993 non-null  int64 \n",
      " 3   Book-Title           21993 non-null  object\n",
      " 4   Book-Author          21993 non-null  object\n",
      " 5   Year-Of-Publication  21993 non-null  object\n",
      " 6   Publisher            21993 non-null  object\n",
      " 7   Image-URL-S          21993 non-null  object\n",
      " 8   Image-URL-M          21993 non-null  object\n",
      " 9   Image-URL-L          21993 non-null  object\n",
      "dtypes: int64(2), object(8)\n",
      "memory usage: 1.8+ MB\n"
     ]
    }
   ],
   "source": [
    "fix_df.info()"
   ]
  },
  {
   "cell_type": "code",
   "execution_count": 42,
   "metadata": {},
   "outputs": [
    {
     "name": "stderr",
     "output_type": "stream",
     "text": [
      "C:\\Users\\User\\AppData\\Local\\Temp\\ipykernel_3424\\122792612.py:2: SettingWithCopyWarning: \n",
      "A value is trying to be set on a copy of a slice from a DataFrame.\n",
      "Try using .loc[row_indexer,col_indexer] = value instead\n",
      "\n",
      "See the caveats in the documentation: https://pandas.pydata.org/pandas-docs/stable/user_guide/indexing.html#returning-a-view-versus-a-copy\n",
      "  fix_df['User-ID'] = fix_df['User-ID'].astype(str)\n"
     ]
    }
   ],
   "source": [
    "# mengubah tipe data User-ID menjadi string\n",
    "fix_df['User-ID'] = fix_df['User-ID'].astype(str)"
   ]
  },
  {
   "cell_type": "code",
   "execution_count": 43,
   "metadata": {},
   "outputs": [
    {
     "name": "stdout",
     "output_type": "stream",
     "text": [
      "<class 'pandas.core.frame.DataFrame'>\n",
      "Index: 21993 entries, 60 to 1031107\n",
      "Data columns (total 10 columns):\n",
      " #   Column               Non-Null Count  Dtype \n",
      "---  ------               --------------  ----- \n",
      " 0   User-ID              21993 non-null  object\n",
      " 1   ISBN                 21993 non-null  object\n",
      " 2   Book-Rating          21993 non-null  int64 \n",
      " 3   Book-Title           21993 non-null  object\n",
      " 4   Book-Author          21993 non-null  object\n",
      " 5   Year-Of-Publication  21993 non-null  object\n",
      " 6   Publisher            21993 non-null  object\n",
      " 7   Image-URL-S          21993 non-null  object\n",
      " 8   Image-URL-M          21993 non-null  object\n",
      " 9   Image-URL-L          21993 non-null  object\n",
      "dtypes: int64(1), object(9)\n",
      "memory usage: 1.8+ MB\n"
     ]
    }
   ],
   "source": [
    "fix_df.info()"
   ]
  },
  {
   "cell_type": "code",
   "execution_count": 44,
   "metadata": {},
   "outputs": [
    {
     "data": {
      "text/html": [
       "<div>\n",
       "<style scoped>\n",
       "    .dataframe tbody tr th:only-of-type {\n",
       "        vertical-align: middle;\n",
       "    }\n",
       "\n",
       "    .dataframe tbody tr th {\n",
       "        vertical-align: top;\n",
       "    }\n",
       "\n",
       "    .dataframe thead th {\n",
       "        text-align: right;\n",
       "    }\n",
       "</style>\n",
       "<table border=\"1\" class=\"dataframe\">\n",
       "  <thead>\n",
       "    <tr style=\"text-align: right;\">\n",
       "      <th></th>\n",
       "      <th>User-ID</th>\n",
       "      <th>ISBN</th>\n",
       "      <th>Book-Rating</th>\n",
       "      <th>Book-Title</th>\n",
       "      <th>Book-Author</th>\n",
       "      <th>Year-Of-Publication</th>\n",
       "      <th>Publisher</th>\n",
       "      <th>Image-URL-S</th>\n",
       "      <th>Image-URL-M</th>\n",
       "      <th>Image-URL-L</th>\n",
       "    </tr>\n",
       "  </thead>\n",
       "  <tbody>\n",
       "    <tr>\n",
       "      <th>60</th>\n",
       "      <td>276788</td>\n",
       "      <td>043935806X</td>\n",
       "      <td>7</td>\n",
       "      <td>Harry Potter and the Order of the Phoenix (Boo...</td>\n",
       "      <td>J. K. Rowling</td>\n",
       "      <td>2003</td>\n",
       "      <td>Scholastic</td>\n",
       "      <td>http://images.amazon.com/images/P/043935806X.0...</td>\n",
       "      <td>http://images.amazon.com/images/P/043935806X.0...</td>\n",
       "      <td>http://images.amazon.com/images/P/043935806X.0...</td>\n",
       "    </tr>\n",
       "    <tr>\n",
       "      <th>81</th>\n",
       "      <td>276804</td>\n",
       "      <td>0439104769</td>\n",
       "      <td>0</td>\n",
       "      <td>Bloomability</td>\n",
       "      <td>Sharon Creech</td>\n",
       "      <td>0</td>\n",
       "      <td>Scholastic Inc</td>\n",
       "      <td>http://images.amazon.com/images/P/0439104769.0...</td>\n",
       "      <td>http://images.amazon.com/images/P/0439104769.0...</td>\n",
       "      <td>http://images.amazon.com/images/P/0439104769.0...</td>\n",
       "    </tr>\n",
       "    <tr>\n",
       "      <th>82</th>\n",
       "      <td>276804</td>\n",
       "      <td>0440498058</td>\n",
       "      <td>8</td>\n",
       "      <td>A Wrinkle In Time</td>\n",
       "      <td>MADELEINE L'ENGLE</td>\n",
       "      <td>1998</td>\n",
       "      <td>Yearling</td>\n",
       "      <td>http://images.amazon.com/images/P/0440498058.0...</td>\n",
       "      <td>http://images.amazon.com/images/P/0440498058.0...</td>\n",
       "      <td>http://images.amazon.com/images/P/0440498058.0...</td>\n",
       "    </tr>\n",
       "    <tr>\n",
       "      <th>121</th>\n",
       "      <td>276828</td>\n",
       "      <td>2253150711</td>\n",
       "      <td>7</td>\n",
       "      <td>Stupeur Et Tremblements</td>\n",
       "      <td>Amelie Nothomb</td>\n",
       "      <td>2001</td>\n",
       "      <td>Distribooks</td>\n",
       "      <td>http://images.amazon.com/images/P/2253150711.0...</td>\n",
       "      <td>http://images.amazon.com/images/P/2253150711.0...</td>\n",
       "      <td>http://images.amazon.com/images/P/2253150711.0...</td>\n",
       "    </tr>\n",
       "    <tr>\n",
       "      <th>168</th>\n",
       "      <td>276847</td>\n",
       "      <td>3551551677</td>\n",
       "      <td>10</td>\n",
       "      <td>Harry Potter und der Stein der Weisen</td>\n",
       "      <td>Joanne K. Rowling</td>\n",
       "      <td>1999</td>\n",
       "      <td>Carlsen Verlag GmbH</td>\n",
       "      <td>http://images.amazon.com/images/P/3551551677.0...</td>\n",
       "      <td>http://images.amazon.com/images/P/3551551677.0...</td>\n",
       "      <td>http://images.amazon.com/images/P/3551551677.0...</td>\n",
       "    </tr>\n",
       "  </tbody>\n",
       "</table>\n",
       "</div>"
      ],
      "text/plain": [
       "    User-ID        ISBN  Book-Rating  \\\n",
       "60   276788  043935806X            7   \n",
       "81   276804  0439104769            0   \n",
       "82   276804  0440498058            8   \n",
       "121  276828  2253150711            7   \n",
       "168  276847  3551551677           10   \n",
       "\n",
       "                                            Book-Title        Book-Author  \\\n",
       "60   Harry Potter and the Order of the Phoenix (Boo...      J. K. Rowling   \n",
       "81                                        Bloomability      Sharon Creech   \n",
       "82                                   A Wrinkle In Time  MADELEINE L'ENGLE   \n",
       "121                            Stupeur Et Tremblements     Amelie Nothomb   \n",
       "168              Harry Potter und der Stein der Weisen  Joanne K. Rowling   \n",
       "\n",
       "    Year-Of-Publication            Publisher  \\\n",
       "60                 2003           Scholastic   \n",
       "81                    0       Scholastic Inc   \n",
       "82                 1998             Yearling   \n",
       "121                2001          Distribooks   \n",
       "168                1999  Carlsen Verlag GmbH   \n",
       "\n",
       "                                           Image-URL-S  \\\n",
       "60   http://images.amazon.com/images/P/043935806X.0...   \n",
       "81   http://images.amazon.com/images/P/0439104769.0...   \n",
       "82   http://images.amazon.com/images/P/0440498058.0...   \n",
       "121  http://images.amazon.com/images/P/2253150711.0...   \n",
       "168  http://images.amazon.com/images/P/3551551677.0...   \n",
       "\n",
       "                                           Image-URL-M  \\\n",
       "60   http://images.amazon.com/images/P/043935806X.0...   \n",
       "81   http://images.amazon.com/images/P/0439104769.0...   \n",
       "82   http://images.amazon.com/images/P/0440498058.0...   \n",
       "121  http://images.amazon.com/images/P/2253150711.0...   \n",
       "168  http://images.amazon.com/images/P/3551551677.0...   \n",
       "\n",
       "                                           Image-URL-L  \n",
       "60   http://images.amazon.com/images/P/043935806X.0...  \n",
       "81   http://images.amazon.com/images/P/0439104769.0...  \n",
       "82   http://images.amazon.com/images/P/0440498058.0...  \n",
       "121  http://images.amazon.com/images/P/2253150711.0...  \n",
       "168  http://images.amazon.com/images/P/3551551677.0...  "
      ]
     },
     "execution_count": 44,
     "metadata": {},
     "output_type": "execute_result"
    }
   ],
   "source": [
    "fix_df.head()"
   ]
  },
  {
   "cell_type": "code",
   "execution_count": 45,
   "metadata": {},
   "outputs": [
    {
     "data": {
      "text/html": [
       "<div>\n",
       "<style scoped>\n",
       "    .dataframe tbody tr th:only-of-type {\n",
       "        vertical-align: middle;\n",
       "    }\n",
       "\n",
       "    .dataframe tbody tr th {\n",
       "        vertical-align: top;\n",
       "    }\n",
       "\n",
       "    .dataframe thead th {\n",
       "        text-align: right;\n",
       "    }\n",
       "</style>\n",
       "<table border=\"1\" class=\"dataframe\">\n",
       "  <thead>\n",
       "    <tr style=\"text-align: right;\">\n",
       "      <th></th>\n",
       "      <th>User-ID</th>\n",
       "      <th>Book-Rating</th>\n",
       "      <th>Book-Title</th>\n",
       "    </tr>\n",
       "  </thead>\n",
       "  <tbody>\n",
       "    <tr>\n",
       "      <th>60</th>\n",
       "      <td>276788</td>\n",
       "      <td>7</td>\n",
       "      <td>Harry Potter and the Order of the Phoenix (Boo...</td>\n",
       "    </tr>\n",
       "    <tr>\n",
       "      <th>81</th>\n",
       "      <td>276804</td>\n",
       "      <td>0</td>\n",
       "      <td>Bloomability</td>\n",
       "    </tr>\n",
       "    <tr>\n",
       "      <th>82</th>\n",
       "      <td>276804</td>\n",
       "      <td>8</td>\n",
       "      <td>A Wrinkle In Time</td>\n",
       "    </tr>\n",
       "    <tr>\n",
       "      <th>121</th>\n",
       "      <td>276828</td>\n",
       "      <td>7</td>\n",
       "      <td>Stupeur Et Tremblements</td>\n",
       "    </tr>\n",
       "    <tr>\n",
       "      <th>168</th>\n",
       "      <td>276847</td>\n",
       "      <td>10</td>\n",
       "      <td>Harry Potter und der Stein der Weisen</td>\n",
       "    </tr>\n",
       "  </tbody>\n",
       "</table>\n",
       "</div>"
      ],
      "text/plain": [
       "    User-ID  Book-Rating                                         Book-Title\n",
       "60   276788            7  Harry Potter and the Order of the Phoenix (Boo...\n",
       "81   276804            0                                       Bloomability\n",
       "82   276804            8                                  A Wrinkle In Time\n",
       "121  276828            7                            Stupeur Et Tremblements\n",
       "168  276847           10              Harry Potter und der Stein der Weisen"
      ]
     },
     "execution_count": 45,
     "metadata": {},
     "output_type": "execute_result"
    }
   ],
   "source": [
    "fix_df = fix_df.drop(columns=['ISBN', 'Book-Author', 'Year-Of-Publication', 'Publisher', 'Image-URL-S', 'Image-URL-M', 'Image-URL-L'], axis=1)\n",
    "fix_df.head()"
   ]
  },
  {
   "cell_type": "code",
   "execution_count": 46,
   "metadata": {},
   "outputs": [],
   "source": [
    "# melakukan filter pada fix_df untuk memilih hanya yang memiliki rating lebih besar dari 0\n",
    "fix_df = fix_df[fix_df['Book-Rating'] > 0]"
   ]
  },
  {
   "cell_type": "code",
   "execution_count": 47,
   "metadata": {},
   "outputs": [],
   "source": [
    "# membuat matrix dengan menggunakan pivot table\n",
    "user_item_matrix = fix_df.pivot_table(\n",
    "    index='User-ID', columns='Book-Title', values='Book-Rating'\n",
    ")"
   ]
  },
  {
   "cell_type": "code",
   "execution_count": 48,
   "metadata": {},
   "outputs": [],
   "source": [
    "user_item_matrix.fillna(0, inplace=True)"
   ]
  },
  {
   "cell_type": "markdown",
   "metadata": {},
   "source": [
    "mempersiapkan data untuk model SVD"
   ]
  },
  {
   "cell_type": "code",
   "execution_count": 54,
   "metadata": {},
   "outputs": [],
   "source": [
    "# membaca dataframe ke format surprise\n",
    "reader = Reader(rating_scale=(0, 10))\n",
    "data = Dataset.load_from_df(merge_df[['User-ID', 'Book-Title', 'Book-Rating']], reader)"
   ]
  },
  {
   "cell_type": "code",
   "execution_count": 55,
   "metadata": {},
   "outputs": [],
   "source": [
    "# split data menjadi train dan test\n",
    "trainset, testset = train_test_split(data, test_size=0.2, random_state=42)"
   ]
  },
  {
   "cell_type": "markdown",
   "metadata": {},
   "source": [
    "# Model Development\n",
    "1. Cosine Similarity\n",
    "2. Model SVD"
   ]
  },
  {
   "cell_type": "markdown",
   "metadata": {},
   "source": [
    "## Cosine Similarity"
   ]
  },
  {
   "cell_type": "code",
   "execution_count": 49,
   "metadata": {},
   "outputs": [],
   "source": [
    "# melakukan perhitungan cosine similarity\n",
    "book_similarity = cosine_similarity(user_item_matrix.T)"
   ]
  },
  {
   "cell_type": "code",
   "execution_count": 50,
   "metadata": {},
   "outputs": [],
   "source": [
    "# membuat hasil perhitungan cosine similarity menjadi bentuk dataframe\n",
    "book_similarity_df = pd.DataFrame(\n",
    "    book_similarity, index=user_item_matrix.columns, columns=user_item_matrix.columns\n",
    ")"
   ]
  },
  {
   "cell_type": "code",
   "execution_count": 51,
   "metadata": {},
   "outputs": [
    {
     "data": {
      "text/html": [
       "<div>\n",
       "<style scoped>\n",
       "    .dataframe tbody tr th:only-of-type {\n",
       "        vertical-align: middle;\n",
       "    }\n",
       "\n",
       "    .dataframe tbody tr th {\n",
       "        vertical-align: top;\n",
       "    }\n",
       "\n",
       "    .dataframe thead th {\n",
       "        text-align: right;\n",
       "    }\n",
       "</style>\n",
       "<table border=\"1\" class=\"dataframe\">\n",
       "  <thead>\n",
       "    <tr style=\"text-align: right;\">\n",
       "      <th>Book-Title</th>\n",
       "      <th>2001: A Space Odyssey</th>\n",
       "      <th>52 Deck Series: 52 Ways to Celebrate Friendship</th>\n",
       "      <th>A 5th Portion of Chicken Soup for the Soul : 101 Stories to Open the Heart and Rekindle the Spirit</th>\n",
       "      <th>A Caress of Twilight (Meredith Gentry Novels (Hardcover))</th>\n",
       "      <th>A Clash of Kings (A Song of Fire and Ice, Book 2)</th>\n",
       "      <th>A Clockwork Orange (Norton Paperback Fiction)</th>\n",
       "      <th>A Fire Upon The Deep (Zones of Thought)</th>\n",
       "      <th>A Heart of Stone</th>\n",
       "      <th>A Light in the Attic</th>\n",
       "      <th>A Moveable Feast</th>\n",
       "      <th>...</th>\n",
       "      <th>Where the Wild Things Are</th>\n",
       "      <th>Wicca: A Guide for the Solitary Practitioner</th>\n",
       "      <th>Wielding a Red Sword (Incarnations of Immortality (Paperback))</th>\n",
       "      <th>Wiener Dog Art</th>\n",
       "      <th>Witch Child</th>\n",
       "      <th>Wolves of the Calla (The Dark Tower, Book 5)</th>\n",
       "      <th>Writing Down the Bones</th>\n",
       "      <th>Xanth 15: The Color of Her Panties</th>\n",
       "      <th>Yukon Ho!</th>\n",
       "      <th>iI Paradiso Degli Orchi</th>\n",
       "    </tr>\n",
       "    <tr>\n",
       "      <th>Book-Title</th>\n",
       "      <th></th>\n",
       "      <th></th>\n",
       "      <th></th>\n",
       "      <th></th>\n",
       "      <th></th>\n",
       "      <th></th>\n",
       "      <th></th>\n",
       "      <th></th>\n",
       "      <th></th>\n",
       "      <th></th>\n",
       "      <th></th>\n",
       "      <th></th>\n",
       "      <th></th>\n",
       "      <th></th>\n",
       "      <th></th>\n",
       "      <th></th>\n",
       "      <th></th>\n",
       "      <th></th>\n",
       "      <th></th>\n",
       "      <th></th>\n",
       "      <th></th>\n",
       "    </tr>\n",
       "  </thead>\n",
       "  <tbody>\n",
       "    <tr>\n",
       "      <th>2001: A Space Odyssey</th>\n",
       "      <td>1.0</td>\n",
       "      <td>0.0</td>\n",
       "      <td>0.0</td>\n",
       "      <td>0.0</td>\n",
       "      <td>0.0</td>\n",
       "      <td>0.0</td>\n",
       "      <td>0.0</td>\n",
       "      <td>0.0</td>\n",
       "      <td>0.0</td>\n",
       "      <td>0.0</td>\n",
       "      <td>...</td>\n",
       "      <td>0.0</td>\n",
       "      <td>0.000000</td>\n",
       "      <td>0.00000</td>\n",
       "      <td>0.0</td>\n",
       "      <td>0.0</td>\n",
       "      <td>0.000000</td>\n",
       "      <td>0.0</td>\n",
       "      <td>0.000000</td>\n",
       "      <td>0.000000</td>\n",
       "      <td>0.0</td>\n",
       "    </tr>\n",
       "    <tr>\n",
       "      <th>52 Deck Series: 52 Ways to Celebrate Friendship</th>\n",
       "      <td>0.0</td>\n",
       "      <td>1.0</td>\n",
       "      <td>0.0</td>\n",
       "      <td>0.0</td>\n",
       "      <td>0.0</td>\n",
       "      <td>0.0</td>\n",
       "      <td>0.0</td>\n",
       "      <td>0.0</td>\n",
       "      <td>0.0</td>\n",
       "      <td>0.0</td>\n",
       "      <td>...</td>\n",
       "      <td>0.0</td>\n",
       "      <td>0.000000</td>\n",
       "      <td>0.00000</td>\n",
       "      <td>0.0</td>\n",
       "      <td>0.0</td>\n",
       "      <td>0.000000</td>\n",
       "      <td>0.0</td>\n",
       "      <td>0.000000</td>\n",
       "      <td>0.000000</td>\n",
       "      <td>0.0</td>\n",
       "    </tr>\n",
       "    <tr>\n",
       "      <th>A 5th Portion of Chicken Soup for the Soul : 101 Stories to Open the Heart and Rekindle the Spirit</th>\n",
       "      <td>0.0</td>\n",
       "      <td>0.0</td>\n",
       "      <td>1.0</td>\n",
       "      <td>0.0</td>\n",
       "      <td>0.0</td>\n",
       "      <td>0.0</td>\n",
       "      <td>0.0</td>\n",
       "      <td>0.0</td>\n",
       "      <td>0.0</td>\n",
       "      <td>0.0</td>\n",
       "      <td>...</td>\n",
       "      <td>0.0</td>\n",
       "      <td>0.000000</td>\n",
       "      <td>0.00000</td>\n",
       "      <td>0.0</td>\n",
       "      <td>0.0</td>\n",
       "      <td>0.000000</td>\n",
       "      <td>0.0</td>\n",
       "      <td>0.000000</td>\n",
       "      <td>0.000000</td>\n",
       "      <td>0.0</td>\n",
       "    </tr>\n",
       "    <tr>\n",
       "      <th>A Caress of Twilight (Meredith Gentry Novels (Hardcover))</th>\n",
       "      <td>0.0</td>\n",
       "      <td>0.0</td>\n",
       "      <td>0.0</td>\n",
       "      <td>1.0</td>\n",
       "      <td>0.0</td>\n",
       "      <td>0.0</td>\n",
       "      <td>0.0</td>\n",
       "      <td>0.0</td>\n",
       "      <td>0.0</td>\n",
       "      <td>0.0</td>\n",
       "      <td>...</td>\n",
       "      <td>0.0</td>\n",
       "      <td>0.040362</td>\n",
       "      <td>0.03491</td>\n",
       "      <td>0.0</td>\n",
       "      <td>0.0</td>\n",
       "      <td>0.074902</td>\n",
       "      <td>0.0</td>\n",
       "      <td>0.087545</td>\n",
       "      <td>0.000000</td>\n",
       "      <td>0.0</td>\n",
       "    </tr>\n",
       "    <tr>\n",
       "      <th>A Clash of Kings (A Song of Fire and Ice, Book 2)</th>\n",
       "      <td>0.0</td>\n",
       "      <td>0.0</td>\n",
       "      <td>0.0</td>\n",
       "      <td>0.0</td>\n",
       "      <td>1.0</td>\n",
       "      <td>0.0</td>\n",
       "      <td>0.0</td>\n",
       "      <td>0.0</td>\n",
       "      <td>0.0</td>\n",
       "      <td>0.0</td>\n",
       "      <td>...</td>\n",
       "      <td>0.0</td>\n",
       "      <td>0.034889</td>\n",
       "      <td>0.00000</td>\n",
       "      <td>0.0</td>\n",
       "      <td>0.0</td>\n",
       "      <td>0.000000</td>\n",
       "      <td>0.0</td>\n",
       "      <td>0.000000</td>\n",
       "      <td>0.041677</td>\n",
       "      <td>0.0</td>\n",
       "    </tr>\n",
       "  </tbody>\n",
       "</table>\n",
       "<p>5 rows × 421 columns</p>\n",
       "</div>"
      ],
      "text/plain": [
       "Book-Title                                          2001: A Space Odyssey  \\\n",
       "Book-Title                                                                  \n",
       "2001: A Space Odyssey                                                 1.0   \n",
       "52 Deck Series: 52 Ways to Celebrate Friendship                       0.0   \n",
       "A 5th Portion of Chicken Soup for the Soul : 10...                    0.0   \n",
       "A Caress of Twilight (Meredith Gentry Novels (H...                    0.0   \n",
       "A Clash of Kings (A Song of Fire and Ice, Book 2)                     0.0   \n",
       "\n",
       "Book-Title                                          52 Deck Series: 52 Ways to Celebrate Friendship  \\\n",
       "Book-Title                                                                                            \n",
       "2001: A Space Odyssey                                                                           0.0   \n",
       "52 Deck Series: 52 Ways to Celebrate Friendship                                                 1.0   \n",
       "A 5th Portion of Chicken Soup for the Soul : 10...                                              0.0   \n",
       "A Caress of Twilight (Meredith Gentry Novels (H...                                              0.0   \n",
       "A Clash of Kings (A Song of Fire and Ice, Book 2)                                               0.0   \n",
       "\n",
       "Book-Title                                          A 5th Portion of Chicken Soup for the Soul : 101 Stories to Open the Heart and Rekindle the Spirit  \\\n",
       "Book-Title                                                                                                                                               \n",
       "2001: A Space Odyssey                                                                             0.0                                                    \n",
       "52 Deck Series: 52 Ways to Celebrate Friendship                                                   0.0                                                    \n",
       "A 5th Portion of Chicken Soup for the Soul : 10...                                                1.0                                                    \n",
       "A Caress of Twilight (Meredith Gentry Novels (H...                                                0.0                                                    \n",
       "A Clash of Kings (A Song of Fire and Ice, Book 2)                                                 0.0                                                    \n",
       "\n",
       "Book-Title                                          A Caress of Twilight (Meredith Gentry Novels (Hardcover))  \\\n",
       "Book-Title                                                                                                      \n",
       "2001: A Space Odyssey                                                                             0.0           \n",
       "52 Deck Series: 52 Ways to Celebrate Friendship                                                   0.0           \n",
       "A 5th Portion of Chicken Soup for the Soul : 10...                                                0.0           \n",
       "A Caress of Twilight (Meredith Gentry Novels (H...                                                1.0           \n",
       "A Clash of Kings (A Song of Fire and Ice, Book 2)                                                 0.0           \n",
       "\n",
       "Book-Title                                          A Clash of Kings (A Song of Fire and Ice, Book 2)  \\\n",
       "Book-Title                                                                                              \n",
       "2001: A Space Odyssey                                                                             0.0   \n",
       "52 Deck Series: 52 Ways to Celebrate Friendship                                                   0.0   \n",
       "A 5th Portion of Chicken Soup for the Soul : 10...                                                0.0   \n",
       "A Caress of Twilight (Meredith Gentry Novels (H...                                                0.0   \n",
       "A Clash of Kings (A Song of Fire and Ice, Book 2)                                                 1.0   \n",
       "\n",
       "Book-Title                                          A Clockwork Orange (Norton Paperback Fiction)  \\\n",
       "Book-Title                                                                                          \n",
       "2001: A Space Odyssey                                                                         0.0   \n",
       "52 Deck Series: 52 Ways to Celebrate Friendship                                               0.0   \n",
       "A 5th Portion of Chicken Soup for the Soul : 10...                                            0.0   \n",
       "A Caress of Twilight (Meredith Gentry Novels (H...                                            0.0   \n",
       "A Clash of Kings (A Song of Fire and Ice, Book 2)                                             0.0   \n",
       "\n",
       "Book-Title                                          A Fire Upon The Deep (Zones of Thought)  \\\n",
       "Book-Title                                                                                    \n",
       "2001: A Space Odyssey                                                                   0.0   \n",
       "52 Deck Series: 52 Ways to Celebrate Friendship                                         0.0   \n",
       "A 5th Portion of Chicken Soup for the Soul : 10...                                      0.0   \n",
       "A Caress of Twilight (Meredith Gentry Novels (H...                                      0.0   \n",
       "A Clash of Kings (A Song of Fire and Ice, Book 2)                                       0.0   \n",
       "\n",
       "Book-Title                                          A Heart of Stone  \\\n",
       "Book-Title                                                             \n",
       "2001: A Space Odyssey                                            0.0   \n",
       "52 Deck Series: 52 Ways to Celebrate Friendship                  0.0   \n",
       "A 5th Portion of Chicken Soup for the Soul : 10...               0.0   \n",
       "A Caress of Twilight (Meredith Gentry Novels (H...               0.0   \n",
       "A Clash of Kings (A Song of Fire and Ice, Book 2)                0.0   \n",
       "\n",
       "Book-Title                                          A Light in the Attic  \\\n",
       "Book-Title                                                                 \n",
       "2001: A Space Odyssey                                                0.0   \n",
       "52 Deck Series: 52 Ways to Celebrate Friendship                      0.0   \n",
       "A 5th Portion of Chicken Soup for the Soul : 10...                   0.0   \n",
       "A Caress of Twilight (Meredith Gentry Novels (H...                   0.0   \n",
       "A Clash of Kings (A Song of Fire and Ice, Book 2)                    0.0   \n",
       "\n",
       "Book-Title                                          A Moveable Feast  ...  \\\n",
       "Book-Title                                                            ...   \n",
       "2001: A Space Odyssey                                            0.0  ...   \n",
       "52 Deck Series: 52 Ways to Celebrate Friendship                  0.0  ...   \n",
       "A 5th Portion of Chicken Soup for the Soul : 10...               0.0  ...   \n",
       "A Caress of Twilight (Meredith Gentry Novels (H...               0.0  ...   \n",
       "A Clash of Kings (A Song of Fire and Ice, Book 2)                0.0  ...   \n",
       "\n",
       "Book-Title                                          Where the Wild Things Are  \\\n",
       "Book-Title                                                                      \n",
       "2001: A Space Odyssey                                                     0.0   \n",
       "52 Deck Series: 52 Ways to Celebrate Friendship                           0.0   \n",
       "A 5th Portion of Chicken Soup for the Soul : 10...                        0.0   \n",
       "A Caress of Twilight (Meredith Gentry Novels (H...                        0.0   \n",
       "A Clash of Kings (A Song of Fire and Ice, Book 2)                         0.0   \n",
       "\n",
       "Book-Title                                          Wicca: A Guide for the Solitary Practitioner  \\\n",
       "Book-Title                                                                                         \n",
       "2001: A Space Odyssey                                                                   0.000000   \n",
       "52 Deck Series: 52 Ways to Celebrate Friendship                                         0.000000   \n",
       "A 5th Portion of Chicken Soup for the Soul : 10...                                      0.000000   \n",
       "A Caress of Twilight (Meredith Gentry Novels (H...                                      0.040362   \n",
       "A Clash of Kings (A Song of Fire and Ice, Book 2)                                       0.034889   \n",
       "\n",
       "Book-Title                                          Wielding a Red Sword (Incarnations of Immortality (Paperback))  \\\n",
       "Book-Title                                                                                                           \n",
       "2001: A Space Odyssey                                                                         0.00000                \n",
       "52 Deck Series: 52 Ways to Celebrate Friendship                                               0.00000                \n",
       "A 5th Portion of Chicken Soup for the Soul : 10...                                            0.00000                \n",
       "A Caress of Twilight (Meredith Gentry Novels (H...                                            0.03491                \n",
       "A Clash of Kings (A Song of Fire and Ice, Book 2)                                             0.00000                \n",
       "\n",
       "Book-Title                                          Wiener Dog Art  \\\n",
       "Book-Title                                                           \n",
       "2001: A Space Odyssey                                          0.0   \n",
       "52 Deck Series: 52 Ways to Celebrate Friendship                0.0   \n",
       "A 5th Portion of Chicken Soup for the Soul : 10...             0.0   \n",
       "A Caress of Twilight (Meredith Gentry Novels (H...             0.0   \n",
       "A Clash of Kings (A Song of Fire and Ice, Book 2)              0.0   \n",
       "\n",
       "Book-Title                                          Witch Child  \\\n",
       "Book-Title                                                        \n",
       "2001: A Space Odyssey                                       0.0   \n",
       "52 Deck Series: 52 Ways to Celebrate Friendship             0.0   \n",
       "A 5th Portion of Chicken Soup for the Soul : 10...          0.0   \n",
       "A Caress of Twilight (Meredith Gentry Novels (H...          0.0   \n",
       "A Clash of Kings (A Song of Fire and Ice, Book 2)           0.0   \n",
       "\n",
       "Book-Title                                          Wolves of the Calla (The Dark Tower, Book 5)  \\\n",
       "Book-Title                                                                                         \n",
       "2001: A Space Odyssey                                                                   0.000000   \n",
       "52 Deck Series: 52 Ways to Celebrate Friendship                                         0.000000   \n",
       "A 5th Portion of Chicken Soup for the Soul : 10...                                      0.000000   \n",
       "A Caress of Twilight (Meredith Gentry Novels (H...                                      0.074902   \n",
       "A Clash of Kings (A Song of Fire and Ice, Book 2)                                       0.000000   \n",
       "\n",
       "Book-Title                                          Writing Down the Bones  \\\n",
       "Book-Title                                                                   \n",
       "2001: A Space Odyssey                                                  0.0   \n",
       "52 Deck Series: 52 Ways to Celebrate Friendship                        0.0   \n",
       "A 5th Portion of Chicken Soup for the Soul : 10...                     0.0   \n",
       "A Caress of Twilight (Meredith Gentry Novels (H...                     0.0   \n",
       "A Clash of Kings (A Song of Fire and Ice, Book 2)                      0.0   \n",
       "\n",
       "Book-Title                                          Xanth 15: The Color of Her Panties  \\\n",
       "Book-Title                                                                               \n",
       "2001: A Space Odyssey                                                         0.000000   \n",
       "52 Deck Series: 52 Ways to Celebrate Friendship                               0.000000   \n",
       "A 5th Portion of Chicken Soup for the Soul : 10...                            0.000000   \n",
       "A Caress of Twilight (Meredith Gentry Novels (H...                            0.087545   \n",
       "A Clash of Kings (A Song of Fire and Ice, Book 2)                             0.000000   \n",
       "\n",
       "Book-Title                                          Yukon Ho!  \\\n",
       "Book-Title                                                      \n",
       "2001: A Space Odyssey                                0.000000   \n",
       "52 Deck Series: 52 Ways to Celebrate Friendship      0.000000   \n",
       "A 5th Portion of Chicken Soup for the Soul : 10...   0.000000   \n",
       "A Caress of Twilight (Meredith Gentry Novels (H...   0.000000   \n",
       "A Clash of Kings (A Song of Fire and Ice, Book 2)    0.041677   \n",
       "\n",
       "Book-Title                                          iI Paradiso Degli Orchi  \n",
       "Book-Title                                                                   \n",
       "2001: A Space Odyssey                                                   0.0  \n",
       "52 Deck Series: 52 Ways to Celebrate Friendship                         0.0  \n",
       "A 5th Portion of Chicken Soup for the Soul : 10...                      0.0  \n",
       "A Caress of Twilight (Meredith Gentry Novels (H...                      0.0  \n",
       "A Clash of Kings (A Song of Fire and Ice, Book 2)                       0.0  \n",
       "\n",
       "[5 rows x 421 columns]"
      ]
     },
     "execution_count": 51,
     "metadata": {},
     "output_type": "execute_result"
    }
   ],
   "source": [
    "book_similarity_df.head()"
   ]
  },
  {
   "cell_type": "code",
   "execution_count": 52,
   "metadata": {},
   "outputs": [],
   "source": [
    "def get_similar_books(book_title, top_n=5):\n",
    "    # Mengecek apakah book_title ada di DataFrame\n",
    "    if book_title not in book_similarity_df.columns:\n",
    "        print(f\"Buku '{book_title}' tidak ditemukan di database.\")\n",
    "        return\n",
    "    \n",
    "    # Mengambil daftar rekomendasi berdasarkan cosine similarity\n",
    "    recommendation = book_similarity_df[book_title].sort_values(ascending=False)\n",
    "\n",
    "    # Memilih buku dengan kesamaan cosine similarity di atas 0.0\n",
    "    filtered_recommendation = recommendation[recommendation > 0.0]\n",
    "\n",
    "    # Mengatur ulang index\n",
    "    filtered_recommendation = filtered_recommendation.reset_index()\n",
    "    filtered_recommendation.columns = ['Book-Title', 'Similarity']\n",
    "\n",
    "    # Mengurutkan ulang berdasarkan nilai similarity (meskipun sudah diurutkan)\n",
    "    filtered_recommendation.sort_values('Similarity', ascending=False, inplace=True)\n",
    "\n",
    "    # Menampilkan hasil rekomendasi (mengabaikan buku itu sendiri di indeks 0)\n",
    "    print(f\"Rekomendasi untuk buku '{book_title}':\")\n",
    "    for i, (book, similarity) in enumerate(filtered_recommendation.iloc[1:top_n+1].values, start=1):\n",
    "        print(f\"{i}. Book: {book} (Similarity: {round(similarity, 2)})\")"
   ]
  },
  {
   "cell_type": "code",
   "execution_count": 53,
   "metadata": {},
   "outputs": [
    {
     "name": "stdout",
     "output_type": "stream",
     "text": [
      "Rekomendasi untuk buku 'Harry Potter and the Order of the Phoenix (Book 5)':\n",
      "1. Book: Harry Potter and the Goblet of Fire (Book 4) (Similarity: 0.4)\n",
      "2. Book: Harry Potter and the Prisoner of Azkaban (Book 3) (Similarity: 0.35)\n",
      "3. Book: Harry Potter and the Chamber of Secrets (Book 2) (Similarity: 0.3)\n",
      "4. Book: Harry Potter and the Sorcerer's Stone (Book 1) (Similarity: 0.26)\n",
      "5. Book: Harry Potter and the Sorcerer's Stone (Harry Potter (Paperback)) (Similarity: 0.15)\n"
     ]
    }
   ],
   "source": [
    "get_similar_books('Harry Potter and the Order of the Phoenix (Book 5)')"
   ]
  },
  {
   "cell_type": "markdown",
   "metadata": {},
   "source": [
    "## Model SVD"
   ]
  },
  {
   "cell_type": "code",
   "execution_count": 56,
   "metadata": {},
   "outputs": [],
   "source": [
    "model = SVD()"
   ]
  },
  {
   "cell_type": "code",
   "execution_count": 57,
   "metadata": {},
   "outputs": [
    {
     "data": {
      "text/plain": [
       "<surprise.prediction_algorithms.matrix_factorization.SVD at 0x2941ae98610>"
      ]
     },
     "execution_count": 57,
     "metadata": {},
     "output_type": "execute_result"
    }
   ],
   "source": [
    "model.fit(trainset)"
   ]
  },
  {
   "cell_type": "code",
   "execution_count": 58,
   "metadata": {},
   "outputs": [],
   "source": [
    "def get_recommendations(user_id):\n",
    "    # daftar judul buku\n",
    "    all_books_title = fix_df['Book-Title'].unique()\n",
    "\n",
    "    # buku yang telah dibaca oleh pengguna\n",
    "    books_read = fix_df[fix_df['User-ID'] == user_id]['Book-Title'].unique()\n",
    "\n",
    "    # buku yang belum dibaca oleh pengguna\n",
    "    books_not_read = [book for book in all_books_title if book not in books_read]\n",
    "\n",
    "    # prediksi rating untuk buku yang belum dibaca oleh pengguna\n",
    "    recommendations = []\n",
    "    for book_title in books_not_read:\n",
    "        predictions = model.predict(user_id, book_title)\n",
    "        recommendations.append((book_title, predictions.est))\n",
    "\n",
    "    # mengurutkan rekomendasi berdasarkan prediksi rating\n",
    "    recommendations.sort(key=lambda x: x[1], reverse=True)\n",
    "\n",
    "    print (f\"Rekomendasi buku untuk pengguna dengan ID {user_id}:\")\n",
    "\n",
    "    for book_title, rating in recommendations[:5]:\n",
    "        print(f\"Buku: {book_title} (Prediksi Rating: {rating.round(1)})\")"
   ]
  },
  {
   "cell_type": "code",
   "execution_count": 59,
   "metadata": {},
   "outputs": [
    {
     "name": "stdout",
     "output_type": "stream",
     "text": [
      "Rekomendasi buku untuk pengguna dengan ID 276729:\n",
      "Buku: Free (Prediksi Rating: 7.7)\n",
      "Buku: El Hobbit (Prediksi Rating: 6.0)\n",
      "Buku: Love You Forever (Prediksi Rating: 6.0)\n",
      "Buku: Falling Up (Prediksi Rating: 6.0)\n",
      "Buku: Charlie and the Chocolate Factory (Prediksi Rating: 5.6)\n"
     ]
    }
   ],
   "source": [
    "get_recommendations('276729')"
   ]
  },
  {
   "cell_type": "markdown",
   "metadata": {},
   "source": [
    "# Model Evaluation"
   ]
  },
  {
   "cell_type": "markdown",
   "metadata": {},
   "source": [
    "## Model Cosine Similarity"
   ]
  },
  {
   "cell_type": "code",
   "execution_count": 60,
   "metadata": {},
   "outputs": [],
   "source": [
    "# Fungsi untuk memprediksi rating berdasarkan cosine similarity\n",
    "def predict_rating(books_similarity, rating_matrix):\n",
    "    predict_rating = np.dot(books_similarity, rating_matrix.T)/np.abs(books_similarity).sum(axis=1, keepdims=True)\n",
    "    return predict_rating.T"
   ]
  },
  {
   "cell_type": "code",
   "execution_count": 61,
   "metadata": {},
   "outputs": [
    {
     "data": {
      "text/html": [
       "<div>\n",
       "<style scoped>\n",
       "    .dataframe tbody tr th:only-of-type {\n",
       "        vertical-align: middle;\n",
       "    }\n",
       "\n",
       "    .dataframe tbody tr th {\n",
       "        vertical-align: top;\n",
       "    }\n",
       "\n",
       "    .dataframe thead th {\n",
       "        text-align: right;\n",
       "    }\n",
       "</style>\n",
       "<table border=\"1\" class=\"dataframe\">\n",
       "  <thead>\n",
       "    <tr style=\"text-align: right;\">\n",
       "      <th>Book-Title</th>\n",
       "      <th>2001: A Space Odyssey</th>\n",
       "      <th>52 Deck Series: 52 Ways to Celebrate Friendship</th>\n",
       "      <th>A 5th Portion of Chicken Soup for the Soul : 101 Stories to Open the Heart and Rekindle the Spirit</th>\n",
       "      <th>A Caress of Twilight (Meredith Gentry Novels (Hardcover))</th>\n",
       "      <th>A Clash of Kings (A Song of Fire and Ice, Book 2)</th>\n",
       "      <th>A Clockwork Orange (Norton Paperback Fiction)</th>\n",
       "      <th>A Fire Upon The Deep (Zones of Thought)</th>\n",
       "      <th>A Heart of Stone</th>\n",
       "      <th>A Light in the Attic</th>\n",
       "      <th>A Moveable Feast</th>\n",
       "      <th>...</th>\n",
       "      <th>Where the Wild Things Are</th>\n",
       "      <th>Wicca: A Guide for the Solitary Practitioner</th>\n",
       "      <th>Wielding a Red Sword (Incarnations of Immortality (Paperback))</th>\n",
       "      <th>Wiener Dog Art</th>\n",
       "      <th>Witch Child</th>\n",
       "      <th>Wolves of the Calla (The Dark Tower, Book 5)</th>\n",
       "      <th>Writing Down the Bones</th>\n",
       "      <th>Xanth 15: The Color of Her Panties</th>\n",
       "      <th>Yukon Ho!</th>\n",
       "      <th>iI Paradiso Degli Orchi</th>\n",
       "    </tr>\n",
       "    <tr>\n",
       "      <th>User-ID</th>\n",
       "      <th></th>\n",
       "      <th></th>\n",
       "      <th></th>\n",
       "      <th></th>\n",
       "      <th></th>\n",
       "      <th></th>\n",
       "      <th></th>\n",
       "      <th></th>\n",
       "      <th></th>\n",
       "      <th></th>\n",
       "      <th></th>\n",
       "      <th></th>\n",
       "      <th></th>\n",
       "      <th></th>\n",
       "      <th></th>\n",
       "      <th></th>\n",
       "      <th></th>\n",
       "      <th></th>\n",
       "      <th></th>\n",
       "      <th></th>\n",
       "      <th></th>\n",
       "    </tr>\n",
       "  </thead>\n",
       "  <tbody>\n",
       "    <tr>\n",
       "      <th>100004</th>\n",
       "      <td>0.074718</td>\n",
       "      <td>0.200998</td>\n",
       "      <td>0.292675</td>\n",
       "      <td>0.145917</td>\n",
       "      <td>0.174977</td>\n",
       "      <td>0.038089</td>\n",
       "      <td>0.215119</td>\n",
       "      <td>0.149640</td>\n",
       "      <td>0.082167</td>\n",
       "      <td>0.053661</td>\n",
       "      <td>...</td>\n",
       "      <td>0.133787</td>\n",
       "      <td>0.143966</td>\n",
       "      <td>0.219420</td>\n",
       "      <td>0.048656</td>\n",
       "      <td>0.074292</td>\n",
       "      <td>0.171069</td>\n",
       "      <td>0.056961</td>\n",
       "      <td>0.159356</td>\n",
       "      <td>0.054755</td>\n",
       "      <td>0.0</td>\n",
       "    </tr>\n",
       "    <tr>\n",
       "      <th>100009</th>\n",
       "      <td>0.000000</td>\n",
       "      <td>0.000000</td>\n",
       "      <td>0.000000</td>\n",
       "      <td>0.073387</td>\n",
       "      <td>0.000000</td>\n",
       "      <td>0.151174</td>\n",
       "      <td>0.182718</td>\n",
       "      <td>0.118067</td>\n",
       "      <td>0.006077</td>\n",
       "      <td>0.087767</td>\n",
       "      <td>...</td>\n",
       "      <td>0.084446</td>\n",
       "      <td>0.000000</td>\n",
       "      <td>0.067307</td>\n",
       "      <td>0.000000</td>\n",
       "      <td>0.039790</td>\n",
       "      <td>0.088883</td>\n",
       "      <td>0.000000</td>\n",
       "      <td>0.102316</td>\n",
       "      <td>0.011246</td>\n",
       "      <td>0.0</td>\n",
       "    </tr>\n",
       "    <tr>\n",
       "      <th>100053</th>\n",
       "      <td>0.068346</td>\n",
       "      <td>0.117103</td>\n",
       "      <td>0.127499</td>\n",
       "      <td>0.000000</td>\n",
       "      <td>0.027586</td>\n",
       "      <td>0.033455</td>\n",
       "      <td>0.060617</td>\n",
       "      <td>0.088044</td>\n",
       "      <td>0.045750</td>\n",
       "      <td>0.100864</td>\n",
       "      <td>...</td>\n",
       "      <td>0.082082</td>\n",
       "      <td>0.000000</td>\n",
       "      <td>0.024097</td>\n",
       "      <td>0.000000</td>\n",
       "      <td>0.000000</td>\n",
       "      <td>0.000000</td>\n",
       "      <td>0.018420</td>\n",
       "      <td>0.000000</td>\n",
       "      <td>0.022306</td>\n",
       "      <td>0.0</td>\n",
       "    </tr>\n",
       "    <tr>\n",
       "      <th>100075</th>\n",
       "      <td>0.000000</td>\n",
       "      <td>0.000000</td>\n",
       "      <td>0.000000</td>\n",
       "      <td>0.000000</td>\n",
       "      <td>0.000000</td>\n",
       "      <td>0.000000</td>\n",
       "      <td>0.000000</td>\n",
       "      <td>0.000000</td>\n",
       "      <td>0.026112</td>\n",
       "      <td>0.000000</td>\n",
       "      <td>...</td>\n",
       "      <td>0.000000</td>\n",
       "      <td>0.000000</td>\n",
       "      <td>0.000000</td>\n",
       "      <td>0.000000</td>\n",
       "      <td>0.000000</td>\n",
       "      <td>0.000000</td>\n",
       "      <td>0.000000</td>\n",
       "      <td>0.000000</td>\n",
       "      <td>0.022887</td>\n",
       "      <td>0.0</td>\n",
       "    </tr>\n",
       "    <tr>\n",
       "      <th>100088</th>\n",
       "      <td>0.000000</td>\n",
       "      <td>0.101134</td>\n",
       "      <td>0.000000</td>\n",
       "      <td>0.038754</td>\n",
       "      <td>0.000000</td>\n",
       "      <td>0.110355</td>\n",
       "      <td>0.013933</td>\n",
       "      <td>0.033729</td>\n",
       "      <td>0.046091</td>\n",
       "      <td>0.175847</td>\n",
       "      <td>...</td>\n",
       "      <td>0.000000</td>\n",
       "      <td>0.076809</td>\n",
       "      <td>0.000000</td>\n",
       "      <td>0.105911</td>\n",
       "      <td>0.238949</td>\n",
       "      <td>0.111104</td>\n",
       "      <td>0.057588</td>\n",
       "      <td>0.094668</td>\n",
       "      <td>0.052801</td>\n",
       "      <td>0.0</td>\n",
       "    </tr>\n",
       "  </tbody>\n",
       "</table>\n",
       "<p>5 rows × 421 columns</p>\n",
       "</div>"
      ],
      "text/plain": [
       "Book-Title  2001: A Space Odyssey  \\\n",
       "User-ID                             \n",
       "100004                   0.074718   \n",
       "100009                   0.000000   \n",
       "100053                   0.068346   \n",
       "100075                   0.000000   \n",
       "100088                   0.000000   \n",
       "\n",
       "Book-Title  52 Deck Series: 52 Ways to Celebrate Friendship  \\\n",
       "User-ID                                                       \n",
       "100004                                             0.200998   \n",
       "100009                                             0.000000   \n",
       "100053                                             0.117103   \n",
       "100075                                             0.000000   \n",
       "100088                                             0.101134   \n",
       "\n",
       "Book-Title  A 5th Portion of Chicken Soup for the Soul : 101 Stories to Open the Heart and Rekindle the Spirit  \\\n",
       "User-ID                                                                                                          \n",
       "100004                                               0.292675                                                    \n",
       "100009                                               0.000000                                                    \n",
       "100053                                               0.127499                                                    \n",
       "100075                                               0.000000                                                    \n",
       "100088                                               0.000000                                                    \n",
       "\n",
       "Book-Title  A Caress of Twilight (Meredith Gentry Novels (Hardcover))  \\\n",
       "User-ID                                                                 \n",
       "100004                                               0.145917           \n",
       "100009                                               0.073387           \n",
       "100053                                               0.000000           \n",
       "100075                                               0.000000           \n",
       "100088                                               0.038754           \n",
       "\n",
       "Book-Title  A Clash of Kings (A Song of Fire and Ice, Book 2)  \\\n",
       "User-ID                                                         \n",
       "100004                                               0.174977   \n",
       "100009                                               0.000000   \n",
       "100053                                               0.027586   \n",
       "100075                                               0.000000   \n",
       "100088                                               0.000000   \n",
       "\n",
       "Book-Title  A Clockwork Orange (Norton Paperback Fiction)  \\\n",
       "User-ID                                                     \n",
       "100004                                           0.038089   \n",
       "100009                                           0.151174   \n",
       "100053                                           0.033455   \n",
       "100075                                           0.000000   \n",
       "100088                                           0.110355   \n",
       "\n",
       "Book-Title  A Fire Upon The Deep (Zones of Thought)  A Heart of Stone  \\\n",
       "User-ID                                                                 \n",
       "100004                                     0.215119          0.149640   \n",
       "100009                                     0.182718          0.118067   \n",
       "100053                                     0.060617          0.088044   \n",
       "100075                                     0.000000          0.000000   \n",
       "100088                                     0.013933          0.033729   \n",
       "\n",
       "Book-Title  A Light in the Attic  A Moveable Feast  ...  \\\n",
       "User-ID                                             ...   \n",
       "100004                  0.082167          0.053661  ...   \n",
       "100009                  0.006077          0.087767  ...   \n",
       "100053                  0.045750          0.100864  ...   \n",
       "100075                  0.026112          0.000000  ...   \n",
       "100088                  0.046091          0.175847  ...   \n",
       "\n",
       "Book-Title  Where the Wild Things Are  \\\n",
       "User-ID                                 \n",
       "100004                       0.133787   \n",
       "100009                       0.084446   \n",
       "100053                       0.082082   \n",
       "100075                       0.000000   \n",
       "100088                       0.000000   \n",
       "\n",
       "Book-Title  Wicca: A Guide for the Solitary Practitioner  \\\n",
       "User-ID                                                    \n",
       "100004                                          0.143966   \n",
       "100009                                          0.000000   \n",
       "100053                                          0.000000   \n",
       "100075                                          0.000000   \n",
       "100088                                          0.076809   \n",
       "\n",
       "Book-Title  Wielding a Red Sword (Incarnations of Immortality (Paperback))  \\\n",
       "User-ID                                                                      \n",
       "100004                                               0.219420                \n",
       "100009                                               0.067307                \n",
       "100053                                               0.024097                \n",
       "100075                                               0.000000                \n",
       "100088                                               0.000000                \n",
       "\n",
       "Book-Title  Wiener Dog Art  Witch Child  \\\n",
       "User-ID                                   \n",
       "100004            0.048656     0.074292   \n",
       "100009            0.000000     0.039790   \n",
       "100053            0.000000     0.000000   \n",
       "100075            0.000000     0.000000   \n",
       "100088            0.105911     0.238949   \n",
       "\n",
       "Book-Title  Wolves of the Calla (The Dark Tower, Book 5)  \\\n",
       "User-ID                                                    \n",
       "100004                                          0.171069   \n",
       "100009                                          0.088883   \n",
       "100053                                          0.000000   \n",
       "100075                                          0.000000   \n",
       "100088                                          0.111104   \n",
       "\n",
       "Book-Title  Writing Down the Bones  Xanth 15: The Color of Her Panties  \\\n",
       "User-ID                                                                  \n",
       "100004                    0.056961                            0.159356   \n",
       "100009                    0.000000                            0.102316   \n",
       "100053                    0.018420                            0.000000   \n",
       "100075                    0.000000                            0.000000   \n",
       "100088                    0.057588                            0.094668   \n",
       "\n",
       "Book-Title  Yukon Ho!  iI Paradiso Degli Orchi  \n",
       "User-ID                                         \n",
       "100004       0.054755                      0.0  \n",
       "100009       0.011246                      0.0  \n",
       "100053       0.022306                      0.0  \n",
       "100075       0.022887                      0.0  \n",
       "100088       0.052801                      0.0  \n",
       "\n",
       "[5 rows x 421 columns]"
      ]
     },
     "execution_count": 61,
     "metadata": {},
     "output_type": "execute_result"
    }
   ],
   "source": [
    "predicted_rating = predict_rating(book_similarity, user_item_matrix)\n",
    "predicted_rating_df = pd.DataFrame(predicted_rating, index=user_item_matrix.index, columns=user_item_matrix.columns)\n",
    "predicted_rating_df.head()"
   ]
  },
  {
   "cell_type": "code",
   "execution_count": 62,
   "metadata": {},
   "outputs": [
    {
     "name": "stdout",
     "output_type": "stream",
     "text": [
      "RMSE: 6.6217\n"
     ]
    }
   ],
   "source": [
    "# mengambil data rating yang sebenarnya\n",
    "actual_rating = user_item_matrix.values \n",
    "\n",
    "# menghitung RMSE pada data yang tidak nol\n",
    "mask = actual_rating > 0\n",
    "rmse = np.sqrt(np.mean((predicted_rating_df.values[mask] - actual_rating[mask])**2))\n",
    "print (f\"RMSE: {rmse:.4f}\")"
   ]
  },
  {
   "cell_type": "markdown",
   "metadata": {},
   "source": [
    "## Model SVD"
   ]
  },
  {
   "cell_type": "code",
   "execution_count": 63,
   "metadata": {},
   "outputs": [
    {
     "name": "stdout",
     "output_type": "stream",
     "text": [
      "RMSE: 3.5161\n"
     ]
    }
   ],
   "source": [
    "# Evaluasi model SVD berdasarkan RMSE\n",
    "predictions = model.test(testset)\n",
    "rmse = accuracy.rmse(predictions)"
   ]
  },
  {
   "cell_type": "markdown",
   "metadata": {},
   "source": [
    "dari hasil diatas dapat disimpulkan bahwa model SVD memiliki RMSE yang lebih kecil yang menunjukkan bahwa model SVD lebih akurat dalam memprediksi rating buku yang sesuai dengan rating yang sebenarnya dibandingkan dengan model cosine similarity."
   ]
  }
 ],
 "metadata": {
  "kernelspec": {
   "display_name": "rekomendasi",
   "language": "python",
   "name": "python3"
  },
  "language_info": {
   "codemirror_mode": {
    "name": "ipython",
    "version": 3
   },
   "file_extension": ".py",
   "mimetype": "text/x-python",
   "name": "python",
   "nbconvert_exporter": "python",
   "pygments_lexer": "ipython3",
   "version": "3.9.20"
  }
 },
 "nbformat": 4,
 "nbformat_minor": 2
}
